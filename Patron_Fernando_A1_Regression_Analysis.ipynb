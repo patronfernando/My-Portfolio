{
 "cells": [
  {
   "cell_type": "markdown",
   "id": "b37c60a4",
   "metadata": {},
   "source": [
    "<hr style=\"height:.9px;border:none;color:#333;background-color:#333;\" />\n",
    "<hr style=\"height:.9px;border:none;color:#333;background-color:#333;\" />\n",
    "\n",
    "<H1>Birthweight regression analysis.</H1><br>\n",
    "\n",
    "by: Fernando Patron\n",
    "\n",
    "Machine Learning\n",
    "Prof. Chase Kusterer\n",
    "\n",
    "<hr style=\"height:.9px;border:none;color:#333;background-color:#333;\" />\n",
    "<hr style=\"height:.9px;border:none;color:#333;background-color:#333;\" />"
   ]
  },
  {
   "cell_type": "markdown",
   "id": "758507d6",
   "metadata": {},
   "source": [
    "<strong><h2>Introduction:</h2></strong><br>\n",
    "The birth weight is that first measurement of weight that is taken at the moment the baby is born. According to several studies, it has been determined that an appropriate weight should be between 5.5 and 8.8 pounds. Any weight beyond these measurements, either lower than 5.5 or higher than 8.8 is considered out of range, and may have repercussions on the baby's health.\n",
    "\n",
    "In this study we will analyze which are the factors that influence this measure and in what proportion they can impact either positively or negatively.\n"
   ]
  },
  {
   "cell_type": "code",
   "execution_count": 127,
   "id": "d9df1004",
   "metadata": {},
   "outputs": [],
   "source": [
    "# importing libraries\n",
    "import pandas as pd                   # data science essentials\n",
    "import matplotlib.pyplot as plt       # essential graphical output\n",
    "import seaborn as sns                 # enhanced graphical output\n",
    "import numpy as np                    # mathematical essentials\n",
    "import statsmodels.formula.api as smf # regression modeling\n",
    "\n",
    "\n",
    "# setting pandas print options\n",
    "pd.set_option('display.max_rows', 500)\n",
    "pd.set_option('display.max_columns', 500)\n",
    "pd.set_option('display.width', 1000)\n",
    "\n",
    "\n",
    "# specifying file name\n",
    "file = './birthweight_low.xlsx'\n",
    "\n",
    "\n",
    "# reading the file into Python\n",
    "birthweight = pd.read_excel(file)\n"
   ]
  },
  {
   "cell_type": "code",
   "execution_count": 128,
   "id": "d8cb5c7b",
   "metadata": {},
   "outputs": [
    {
     "name": "stdout",
     "output_type": "stream",
     "text": [
      "<class 'pandas.core.frame.DataFrame'>\n",
      "RangeIndex: 196 entries, 0 to 195\n",
      "Data columns (total 18 columns):\n",
      " #   Column  Non-Null Count  Dtype  \n",
      "---  ------  --------------  -----  \n",
      " 0   mage    196 non-null    int64  \n",
      " 1   meduc   193 non-null    float64\n",
      " 2   monpre  196 non-null    int64  \n",
      " 3   npvis   193 non-null    float64\n",
      " 4   fage    196 non-null    int64  \n",
      " 5   feduc   189 non-null    float64\n",
      " 6   omaps   196 non-null    int64  \n",
      " 7   fmaps   196 non-null    int64  \n",
      " 8   cigs    196 non-null    int64  \n",
      " 9   drink   196 non-null    int64  \n",
      " 10  male    196 non-null    int64  \n",
      " 11  mwhte   196 non-null    int64  \n",
      " 12  mblck   196 non-null    int64  \n",
      " 13  moth    196 non-null    int64  \n",
      " 14  fwhte   196 non-null    int64  \n",
      " 15  fblck   196 non-null    int64  \n",
      " 16  foth    196 non-null    int64  \n",
      " 17  bwght   196 non-null    int64  \n",
      "dtypes: float64(3), int64(15)\n",
      "memory usage: 27.7 KB\n"
     ]
    }
   ],
   "source": [
    "# getting the general info about the dataset to understand the datatypes on each feature.\n",
    "birthweight.info()"
   ]
  },
  {
   "cell_type": "code",
   "execution_count": 129,
   "id": "ac765ce0",
   "metadata": {},
   "outputs": [
    {
     "data": {
      "text/html": [
       "<div>\n",
       "<style scoped>\n",
       "    .dataframe tbody tr th:only-of-type {\n",
       "        vertical-align: middle;\n",
       "    }\n",
       "\n",
       "    .dataframe tbody tr th {\n",
       "        vertical-align: top;\n",
       "    }\n",
       "\n",
       "    .dataframe thead th {\n",
       "        text-align: right;\n",
       "    }\n",
       "</style>\n",
       "<table border=\"1\" class=\"dataframe\">\n",
       "  <thead>\n",
       "    <tr style=\"text-align: right;\">\n",
       "      <th></th>\n",
       "      <th>mage</th>\n",
       "      <th>meduc</th>\n",
       "      <th>monpre</th>\n",
       "      <th>npvis</th>\n",
       "      <th>fage</th>\n",
       "      <th>feduc</th>\n",
       "      <th>omaps</th>\n",
       "      <th>fmaps</th>\n",
       "      <th>cigs</th>\n",
       "      <th>drink</th>\n",
       "      <th>male</th>\n",
       "      <th>mwhte</th>\n",
       "      <th>mblck</th>\n",
       "      <th>moth</th>\n",
       "      <th>fwhte</th>\n",
       "      <th>fblck</th>\n",
       "      <th>foth</th>\n",
       "      <th>bwght</th>\n",
       "    </tr>\n",
       "  </thead>\n",
       "  <tbody>\n",
       "    <tr>\n",
       "      <th>count</th>\n",
       "      <td>196.000000</td>\n",
       "      <td>193.000000</td>\n",
       "      <td>196.000000</td>\n",
       "      <td>193.000000</td>\n",
       "      <td>196.000000</td>\n",
       "      <td>189.000000</td>\n",
       "      <td>196.000000</td>\n",
       "      <td>196.000000</td>\n",
       "      <td>196.000000</td>\n",
       "      <td>196.000000</td>\n",
       "      <td>196.000000</td>\n",
       "      <td>196.000000</td>\n",
       "      <td>196.000000</td>\n",
       "      <td>196.000000</td>\n",
       "      <td>196.000000</td>\n",
       "      <td>196.000000</td>\n",
       "      <td>196.000000</td>\n",
       "      <td>196.000000</td>\n",
       "    </tr>\n",
       "    <tr>\n",
       "      <th>mean</th>\n",
       "      <td>40.153061</td>\n",
       "      <td>13.911917</td>\n",
       "      <td>2.341837</td>\n",
       "      <td>11.601036</td>\n",
       "      <td>39.290816</td>\n",
       "      <td>13.846561</td>\n",
       "      <td>8.193878</td>\n",
       "      <td>8.964286</td>\n",
       "      <td>10.928571</td>\n",
       "      <td>5.397959</td>\n",
       "      <td>0.551020</td>\n",
       "      <td>0.270408</td>\n",
       "      <td>0.382653</td>\n",
       "      <td>0.346939</td>\n",
       "      <td>0.346939</td>\n",
       "      <td>0.341837</td>\n",
       "      <td>0.311224</td>\n",
       "      <td>3334.086735</td>\n",
       "    </tr>\n",
       "    <tr>\n",
       "      <th>std</th>\n",
       "      <td>10.250055</td>\n",
       "      <td>2.055864</td>\n",
       "      <td>1.355136</td>\n",
       "      <td>4.267293</td>\n",
       "      <td>8.982725</td>\n",
       "      <td>2.634217</td>\n",
       "      <td>1.576482</td>\n",
       "      <td>0.651428</td>\n",
       "      <td>6.101282</td>\n",
       "      <td>3.001674</td>\n",
       "      <td>0.498664</td>\n",
       "      <td>0.445308</td>\n",
       "      <td>0.487279</td>\n",
       "      <td>0.477215</td>\n",
       "      <td>0.477215</td>\n",
       "      <td>0.475540</td>\n",
       "      <td>0.464180</td>\n",
       "      <td>646.700904</td>\n",
       "    </tr>\n",
       "    <tr>\n",
       "      <th>min</th>\n",
       "      <td>23.000000</td>\n",
       "      <td>8.000000</td>\n",
       "      <td>1.000000</td>\n",
       "      <td>2.000000</td>\n",
       "      <td>23.000000</td>\n",
       "      <td>1.000000</td>\n",
       "      <td>2.000000</td>\n",
       "      <td>5.000000</td>\n",
       "      <td>0.000000</td>\n",
       "      <td>0.000000</td>\n",
       "      <td>0.000000</td>\n",
       "      <td>0.000000</td>\n",
       "      <td>0.000000</td>\n",
       "      <td>0.000000</td>\n",
       "      <td>0.000000</td>\n",
       "      <td>0.000000</td>\n",
       "      <td>0.000000</td>\n",
       "      <td>697.000000</td>\n",
       "    </tr>\n",
       "    <tr>\n",
       "      <th>25%</th>\n",
       "      <td>33.000000</td>\n",
       "      <td>12.000000</td>\n",
       "      <td>2.000000</td>\n",
       "      <td>10.000000</td>\n",
       "      <td>34.750000</td>\n",
       "      <td>12.000000</td>\n",
       "      <td>8.000000</td>\n",
       "      <td>9.000000</td>\n",
       "      <td>6.000000</td>\n",
       "      <td>4.000000</td>\n",
       "      <td>0.000000</td>\n",
       "      <td>0.000000</td>\n",
       "      <td>0.000000</td>\n",
       "      <td>0.000000</td>\n",
       "      <td>0.000000</td>\n",
       "      <td>0.000000</td>\n",
       "      <td>0.000000</td>\n",
       "      <td>2916.250000</td>\n",
       "    </tr>\n",
       "    <tr>\n",
       "      <th>50%</th>\n",
       "      <td>39.000000</td>\n",
       "      <td>14.000000</td>\n",
       "      <td>2.000000</td>\n",
       "      <td>12.000000</td>\n",
       "      <td>38.000000</td>\n",
       "      <td>14.000000</td>\n",
       "      <td>9.000000</td>\n",
       "      <td>9.000000</td>\n",
       "      <td>11.000000</td>\n",
       "      <td>5.000000</td>\n",
       "      <td>1.000000</td>\n",
       "      <td>0.000000</td>\n",
       "      <td>0.000000</td>\n",
       "      <td>0.000000</td>\n",
       "      <td>0.000000</td>\n",
       "      <td>0.000000</td>\n",
       "      <td>0.000000</td>\n",
       "      <td>3452.000000</td>\n",
       "    </tr>\n",
       "    <tr>\n",
       "      <th>75%</th>\n",
       "      <td>46.000000</td>\n",
       "      <td>16.000000</td>\n",
       "      <td>3.000000</td>\n",
       "      <td>12.000000</td>\n",
       "      <td>43.000000</td>\n",
       "      <td>16.000000</td>\n",
       "      <td>9.000000</td>\n",
       "      <td>9.000000</td>\n",
       "      <td>15.250000</td>\n",
       "      <td>7.250000</td>\n",
       "      <td>1.000000</td>\n",
       "      <td>1.000000</td>\n",
       "      <td>1.000000</td>\n",
       "      <td>1.000000</td>\n",
       "      <td>1.000000</td>\n",
       "      <td>1.000000</td>\n",
       "      <td>1.000000</td>\n",
       "      <td>3759.500000</td>\n",
       "    </tr>\n",
       "    <tr>\n",
       "      <th>max</th>\n",
       "      <td>71.000000</td>\n",
       "      <td>17.000000</td>\n",
       "      <td>8.000000</td>\n",
       "      <td>35.000000</td>\n",
       "      <td>73.000000</td>\n",
       "      <td>17.000000</td>\n",
       "      <td>10.000000</td>\n",
       "      <td>10.000000</td>\n",
       "      <td>25.000000</td>\n",
       "      <td>14.000000</td>\n",
       "      <td>1.000000</td>\n",
       "      <td>1.000000</td>\n",
       "      <td>1.000000</td>\n",
       "      <td>1.000000</td>\n",
       "      <td>1.000000</td>\n",
       "      <td>1.000000</td>\n",
       "      <td>1.000000</td>\n",
       "      <td>4933.000000</td>\n",
       "    </tr>\n",
       "  </tbody>\n",
       "</table>\n",
       "</div>"
      ],
      "text/plain": [
       "             mage       meduc      monpre       npvis        fage       feduc       omaps       fmaps        cigs       drink        male       mwhte       mblck        moth       fwhte       fblck        foth        bwght\n",
       "count  196.000000  193.000000  196.000000  193.000000  196.000000  189.000000  196.000000  196.000000  196.000000  196.000000  196.000000  196.000000  196.000000  196.000000  196.000000  196.000000  196.000000   196.000000\n",
       "mean    40.153061   13.911917    2.341837   11.601036   39.290816   13.846561    8.193878    8.964286   10.928571    5.397959    0.551020    0.270408    0.382653    0.346939    0.346939    0.341837    0.311224  3334.086735\n",
       "std     10.250055    2.055864    1.355136    4.267293    8.982725    2.634217    1.576482    0.651428    6.101282    3.001674    0.498664    0.445308    0.487279    0.477215    0.477215    0.475540    0.464180   646.700904\n",
       "min     23.000000    8.000000    1.000000    2.000000   23.000000    1.000000    2.000000    5.000000    0.000000    0.000000    0.000000    0.000000    0.000000    0.000000    0.000000    0.000000    0.000000   697.000000\n",
       "25%     33.000000   12.000000    2.000000   10.000000   34.750000   12.000000    8.000000    9.000000    6.000000    4.000000    0.000000    0.000000    0.000000    0.000000    0.000000    0.000000    0.000000  2916.250000\n",
       "50%     39.000000   14.000000    2.000000   12.000000   38.000000   14.000000    9.000000    9.000000   11.000000    5.000000    1.000000    0.000000    0.000000    0.000000    0.000000    0.000000    0.000000  3452.000000\n",
       "75%     46.000000   16.000000    3.000000   12.000000   43.000000   16.000000    9.000000    9.000000   15.250000    7.250000    1.000000    1.000000    1.000000    1.000000    1.000000    1.000000    1.000000  3759.500000\n",
       "max     71.000000   17.000000    8.000000   35.000000   73.000000   17.000000   10.000000   10.000000   25.000000   14.000000    1.000000    1.000000    1.000000    1.000000    1.000000    1.000000    1.000000  4933.000000"
      ]
     },
     "execution_count": 129,
     "metadata": {},
     "output_type": "execute_result"
    }
   ],
   "source": [
    "# Getting the descriptive statistics of the dataset.\n",
    "birthweight.describe()"
   ]
  },
  {
   "cell_type": "code",
   "execution_count": 130,
   "id": "39ff5b7b",
   "metadata": {},
   "outputs": [
    {
     "data": {
      "text/plain": [
       "(196, 18)"
      ]
     },
     "execution_count": 130,
     "metadata": {},
     "output_type": "execute_result"
    }
   ],
   "source": [
    "birthweight.shape"
   ]
  },
  {
   "cell_type": "code",
   "execution_count": 131,
   "id": "7dcd9c8e",
   "metadata": {},
   "outputs": [
    {
     "data": {
      "text/plain": [
       "mage      196\n",
       "meduc     193\n",
       "monpre    196\n",
       "npvis     193\n",
       "fage      196\n",
       "feduc     189\n",
       "omaps     196\n",
       "fmaps     196\n",
       "cigs      196\n",
       "drink     196\n",
       "male      196\n",
       "mwhte     196\n",
       "mblck     196\n",
       "moth      196\n",
       "fwhte     196\n",
       "fblck     196\n",
       "foth      196\n",
       "bwght     196\n",
       "dtype: int64"
      ]
     },
     "execution_count": 131,
     "metadata": {},
     "output_type": "execute_result"
    }
   ],
   "source": [
    "#How many values are in each feature. From here we can see if there are any missing values.\n",
    "birthweight.count()"
   ]
  },
  {
   "cell_type": "code",
   "execution_count": 132,
   "id": "4364bba3",
   "metadata": {},
   "outputs": [
    {
     "name": "stdout",
     "output_type": "stream",
     "text": [
      "\n",
      "Values for feature mage:\n",
      "23     2\n",
      "24     3\n",
      "25     2\n",
      "26     2\n",
      "27     2\n",
      "28     4\n",
      "29    10\n",
      "30     8\n",
      "31     6\n",
      "32     8\n",
      "33    12\n",
      "34     9\n",
      "35     5\n",
      "36     5\n",
      "37     7\n",
      "38    12\n",
      "39     7\n",
      "40     9\n",
      "41     8\n",
      "42    14\n",
      "43     5\n",
      "44     5\n",
      "45     1\n",
      "46     2\n",
      "47     6\n",
      "48     7\n",
      "49     4\n",
      "50     4\n",
      "51     4\n",
      "52     2\n",
      "53     2\n",
      "54     1\n",
      "56     1\n",
      "57     1\n",
      "58     2\n",
      "59     1\n",
      "60     1\n",
      "61     3\n",
      "62     1\n",
      "64     2\n",
      "67     1\n",
      "68     1\n",
      "69     1\n",
      "70     1\n",
      "71     2\n",
      "Name: mage, dtype: int64\n",
      "\n",
      "Values for feature meduc:\n",
      "8.0      1\n",
      "10.0     4\n",
      "11.0    11\n",
      "12.0    56\n",
      "13.0    15\n",
      "14.0    28\n",
      "15.0     9\n",
      "16.0    51\n",
      "17.0    18\n",
      "Name: meduc, dtype: int64\n",
      "\n",
      "Values for feature monpre:\n",
      "1    45\n",
      "2    93\n",
      "3    33\n",
      "4    13\n",
      "5     4\n",
      "6     2\n",
      "7     3\n",
      "8     3\n",
      "Name: monpre, dtype: int64\n",
      "\n",
      "Values for feature npvis:\n",
      "2.0      1\n",
      "3.0      2\n",
      "5.0      3\n",
      "6.0      7\n",
      "7.0      7\n",
      "8.0     15\n",
      "9.0     12\n",
      "10.0    24\n",
      "11.0    15\n",
      "12.0    65\n",
      "13.0     9\n",
      "14.0     7\n",
      "15.0     9\n",
      "16.0     5\n",
      "17.0     2\n",
      "18.0     1\n",
      "19.0     1\n",
      "20.0     3\n",
      "25.0     1\n",
      "30.0     2\n",
      "31.0     1\n",
      "35.0     1\n",
      "Name: npvis, dtype: int64\n",
      "\n",
      "Values for feature fage:\n",
      "23     2\n",
      "24     1\n",
      "25     2\n",
      "26     7\n",
      "27     1\n",
      "28     3\n",
      "29     5\n",
      "30     5\n",
      "31     4\n",
      "32     6\n",
      "33     5\n",
      "34     8\n",
      "35    15\n",
      "36    17\n",
      "37    11\n",
      "38    16\n",
      "39    20\n",
      "40     5\n",
      "41     5\n",
      "42     6\n",
      "43     8\n",
      "44     4\n",
      "45     2\n",
      "46     6\n",
      "47     3\n",
      "48     4\n",
      "49     4\n",
      "50     1\n",
      "51     2\n",
      "53     2\n",
      "54     2\n",
      "55     1\n",
      "58     3\n",
      "59     1\n",
      "61     2\n",
      "62     3\n",
      "66     1\n",
      "67     1\n",
      "68     1\n",
      "73     1\n",
      "Name: fage, dtype: int64\n",
      "\n",
      "Values for feature feduc:\n",
      "1.0      2\n",
      "7.0      1\n",
      "8.0      2\n",
      "10.0     4\n",
      "11.0    10\n",
      "12.0    60\n",
      "13.0     6\n",
      "14.0    21\n",
      "15.0     4\n",
      "16.0    53\n",
      "17.0    26\n",
      "Name: feduc, dtype: int64\n",
      "\n",
      "Values for feature omaps:\n",
      "2       5\n",
      "3       4\n",
      "4       3\n",
      "5       2\n",
      "6       3\n",
      "7       7\n",
      "8      57\n",
      "9     111\n",
      "10      4\n",
      "Name: omaps, dtype: int64\n",
      "\n",
      "Values for feature fmaps:\n",
      "5       1\n",
      "6       2\n",
      "7       5\n",
      "8       8\n",
      "9     159\n",
      "10     21\n",
      "Name: fmaps, dtype: int64\n",
      "\n",
      "Values for feature cigs:\n",
      "0      9\n",
      "1      8\n",
      "2      4\n",
      "3      4\n",
      "4      8\n",
      "5     11\n",
      "6      9\n",
      "7      5\n",
      "8     11\n",
      "9     11\n",
      "10    10\n",
      "11    13\n",
      "12     9\n",
      "13    15\n",
      "14    11\n",
      "15     9\n",
      "16    11\n",
      "17    12\n",
      "18     5\n",
      "19     6\n",
      "20     2\n",
      "21     5\n",
      "22     2\n",
      "23     3\n",
      "24     1\n",
      "25     2\n",
      "Name: cigs, dtype: int64\n",
      "\n",
      "Values for feature drink:\n",
      "0     11\n",
      "1     12\n",
      "2     12\n",
      "3     10\n",
      "4     35\n",
      "5     27\n",
      "6     21\n",
      "7     19\n",
      "8     19\n",
      "9     12\n",
      "10    10\n",
      "11     2\n",
      "12     3\n",
      "13     2\n",
      "14     1\n",
      "Name: drink, dtype: int64\n",
      "\n",
      "Values for feature male:\n",
      "0     88\n",
      "1    108\n",
      "Name: male, dtype: int64\n",
      "\n",
      "Values for feature mwhte:\n",
      "0    143\n",
      "1     53\n",
      "Name: mwhte, dtype: int64\n",
      "\n",
      "Values for feature mblck:\n",
      "0    121\n",
      "1     75\n",
      "Name: mblck, dtype: int64\n",
      "\n",
      "Values for feature moth:\n",
      "0    128\n",
      "1     68\n",
      "Name: moth, dtype: int64\n",
      "\n",
      "Values for feature fwhte:\n",
      "0    128\n",
      "1     68\n",
      "Name: fwhte, dtype: int64\n",
      "\n",
      "Values for feature fblck:\n",
      "0    129\n",
      "1     67\n",
      "Name: fblck, dtype: int64\n",
      "\n",
      "Values for feature foth:\n",
      "0    135\n",
      "1     61\n",
      "Name: foth, dtype: int64\n",
      "\n",
      "Values for feature bwght:\n",
      "697     1\n",
      "1290    1\n",
      "1490    1\n",
      "1720    1\n",
      "1956    1\n",
      "1984    1\n",
      "2050    1\n",
      "2068    1\n",
      "2148    1\n",
      "2180    1\n",
      "2266    1\n",
      "2310    1\n",
      "2359    1\n",
      "2438    1\n",
      "2490    1\n",
      "2500    1\n",
      "2523    2\n",
      "2530    1\n",
      "2544    1\n",
      "2580    2\n",
      "2590    1\n",
      "2608    1\n",
      "2630    1\n",
      "2633    1\n",
      "2637    2\n",
      "2639    1\n",
      "2658    1\n",
      "2700    1\n",
      "2721    1\n",
      "2722    1\n",
      "2770    2\n",
      "2778    1\n",
      "2780    1\n",
      "2790    2\n",
      "2799    1\n",
      "2807    1\n",
      "2810    1\n",
      "2839    1\n",
      "2850    1\n",
      "2855    1\n",
      "2890    1\n",
      "2899    1\n",
      "2900    1\n",
      "2905    1\n",
      "2920    2\n",
      "2939    1\n",
      "2948    1\n",
      "2955    1\n",
      "2980    1\n",
      "2990    1\n",
      "3000    2\n",
      "3005    2\n",
      "3010    1\n",
      "3030    2\n",
      "3033    1\n",
      "3050    1\n",
      "3090    3\n",
      "3104    1\n",
      "3130    1\n",
      "3147    2\n",
      "3150    1\n",
      "3170    2\n",
      "3180    1\n",
      "3200    2\n",
      "3203    1\n",
      "3218    1\n",
      "3240    1\n",
      "3254    1\n",
      "3255    1\n",
      "3300    2\n",
      "3310    1\n",
      "3317    1\n",
      "3320    1\n",
      "3325    1\n",
      "3330    1\n",
      "3345    1\n",
      "3359    1\n",
      "3370    1\n",
      "3374    1\n",
      "3389    1\n",
      "3430    1\n",
      "3440    1\n",
      "3449    1\n",
      "3455    1\n",
      "3459    2\n",
      "3490    1\n",
      "3500    1\n",
      "3515    1\n",
      "3518    1\n",
      "3530    1\n",
      "3590    1\n",
      "3600    4\n",
      "3610    1\n",
      "3619    1\n",
      "3620    2\n",
      "3621    1\n",
      "3629    2\n",
      "3647    1\n",
      "3650    3\n",
      "3652    1\n",
      "3655    1\n",
      "3657    3\n",
      "3663    1\n",
      "3680    2\n",
      "3685    1\n",
      "3700    2\n",
      "3710    2\n",
      "3714    2\n",
      "3720    1\n",
      "3730    2\n",
      "3742    5\n",
      "3746    1\n",
      "3756    1\n",
      "3770    3\n",
      "3775    1\n",
      "3790    1\n",
      "3792    1\n",
      "3799    1\n",
      "3810    1\n",
      "3820    1\n",
      "3827    1\n",
      "3834    1\n",
      "3850    1\n",
      "3856    1\n",
      "3860    1\n",
      "3870    2\n",
      "3884    1\n",
      "3900    1\n",
      "3905    1\n",
      "3910    1\n",
      "3912    3\n",
      "3919    1\n",
      "3925    1\n",
      "3940    1\n",
      "3941    2\n",
      "3950    2\n",
      "3970    1\n",
      "4040    1\n",
      "4050    3\n",
      "4090    1\n",
      "4111    1\n",
      "4139    1\n",
      "4210    1\n",
      "4224    1\n",
      "4259    1\n",
      "4315    1\n",
      "4470    1\n",
      "4536    1\n",
      "4610    1\n",
      "4660    1\n",
      "4678    1\n",
      "4791    1\n",
      "4933    1\n",
      "Name: bwght, dtype: int64\n"
     ]
    }
   ],
   "source": [
    "for column in birthweight:\n",
    "    print(f\"\"\"\n",
    "Values for feature {column}:\n",
    "{birthweight[column].value_counts().sort_index(ascending = True)}\"\"\")"
   ]
  },
  {
   "cell_type": "code",
   "execution_count": 133,
   "id": "9285e4fd",
   "metadata": {},
   "outputs": [
    {
     "data": {
      "text/html": [
       "<div>\n",
       "<style scoped>\n",
       "    .dataframe tbody tr th:only-of-type {\n",
       "        vertical-align: middle;\n",
       "    }\n",
       "\n",
       "    .dataframe tbody tr th {\n",
       "        vertical-align: top;\n",
       "    }\n",
       "\n",
       "    .dataframe thead th {\n",
       "        text-align: right;\n",
       "    }\n",
       "</style>\n",
       "<table border=\"1\" class=\"dataframe\">\n",
       "  <thead>\n",
       "    <tr style=\"text-align: right;\">\n",
       "      <th></th>\n",
       "      <th>mage</th>\n",
       "      <th>meduc</th>\n",
       "      <th>monpre</th>\n",
       "      <th>npvis</th>\n",
       "      <th>fage</th>\n",
       "      <th>feduc</th>\n",
       "      <th>omaps</th>\n",
       "      <th>fmaps</th>\n",
       "      <th>cigs</th>\n",
       "      <th>drink</th>\n",
       "      <th>male</th>\n",
       "      <th>mwhte</th>\n",
       "      <th>mblck</th>\n",
       "      <th>moth</th>\n",
       "      <th>fwhte</th>\n",
       "      <th>fblck</th>\n",
       "      <th>foth</th>\n",
       "      <th>bwght</th>\n",
       "    </tr>\n",
       "  </thead>\n",
       "  <tbody>\n",
       "    <tr>\n",
       "      <th>0</th>\n",
       "      <td>69</td>\n",
       "      <td>NaN</td>\n",
       "      <td>5</td>\n",
       "      <td>2.0</td>\n",
       "      <td>62</td>\n",
       "      <td>NaN</td>\n",
       "      <td>4</td>\n",
       "      <td>7</td>\n",
       "      <td>23</td>\n",
       "      <td>9</td>\n",
       "      <td>1</td>\n",
       "      <td>0</td>\n",
       "      <td>1</td>\n",
       "      <td>0</td>\n",
       "      <td>0</td>\n",
       "      <td>1</td>\n",
       "      <td>0</td>\n",
       "      <td>697</td>\n",
       "    </tr>\n",
       "    <tr>\n",
       "      <th>111</th>\n",
       "      <td>38</td>\n",
       "      <td>NaN</td>\n",
       "      <td>1</td>\n",
       "      <td>NaN</td>\n",
       "      <td>34</td>\n",
       "      <td>17.0</td>\n",
       "      <td>7</td>\n",
       "      <td>9</td>\n",
       "      <td>11</td>\n",
       "      <td>7</td>\n",
       "      <td>1</td>\n",
       "      <td>0</td>\n",
       "      <td>0</td>\n",
       "      <td>1</td>\n",
       "      <td>0</td>\n",
       "      <td>0</td>\n",
       "      <td>1</td>\n",
       "      <td>3610</td>\n",
       "    </tr>\n",
       "    <tr>\n",
       "      <th>114</th>\n",
       "      <td>43</td>\n",
       "      <td>NaN</td>\n",
       "      <td>1</td>\n",
       "      <td>9.0</td>\n",
       "      <td>36</td>\n",
       "      <td>NaN</td>\n",
       "      <td>8</td>\n",
       "      <td>9</td>\n",
       "      <td>5</td>\n",
       "      <td>8</td>\n",
       "      <td>1</td>\n",
       "      <td>0</td>\n",
       "      <td>0</td>\n",
       "      <td>1</td>\n",
       "      <td>0</td>\n",
       "      <td>0</td>\n",
       "      <td>1</td>\n",
       "      <td>3620</td>\n",
       "    </tr>\n",
       "  </tbody>\n",
       "</table>\n",
       "</div>"
      ],
      "text/plain": [
       "     mage  meduc  monpre  npvis  fage  feduc  omaps  fmaps  cigs  drink  male  mwhte  mblck  moth  fwhte  fblck  foth  bwght\n",
       "0      69    NaN       5    2.0    62    NaN      4      7    23      9     1      0      1     0      0      1     0    697\n",
       "111    38    NaN       1    NaN    34   17.0      7      9    11      7     1      0      0     1      0      0     1   3610\n",
       "114    43    NaN       1    9.0    36    NaN      8      9     5      8     1      0      0     1      0      0     1   3620"
      ]
     },
     "execution_count": 133,
     "metadata": {},
     "output_type": "execute_result"
    }
   ],
   "source": [
    "#identifing missing values on mothers education feature and trying to understand if there's a trend.\n",
    "birthweight.loc[:,:][birthweight.loc[:,'meduc'].isnull()]\n"
   ]
  },
  {
   "cell_type": "code",
   "execution_count": 134,
   "id": "00395ecc",
   "metadata": {},
   "outputs": [
    {
     "data": {
      "text/html": [
       "<div>\n",
       "<style scoped>\n",
       "    .dataframe tbody tr th:only-of-type {\n",
       "        vertical-align: middle;\n",
       "    }\n",
       "\n",
       "    .dataframe tbody tr th {\n",
       "        vertical-align: top;\n",
       "    }\n",
       "\n",
       "    .dataframe thead th {\n",
       "        text-align: right;\n",
       "    }\n",
       "</style>\n",
       "<table border=\"1\" class=\"dataframe\">\n",
       "  <thead>\n",
       "    <tr style=\"text-align: right;\">\n",
       "      <th></th>\n",
       "      <th>mage</th>\n",
       "      <th>meduc</th>\n",
       "      <th>monpre</th>\n",
       "      <th>npvis</th>\n",
       "      <th>fage</th>\n",
       "      <th>feduc</th>\n",
       "      <th>omaps</th>\n",
       "      <th>fmaps</th>\n",
       "      <th>cigs</th>\n",
       "      <th>drink</th>\n",
       "      <th>male</th>\n",
       "      <th>mwhte</th>\n",
       "      <th>mblck</th>\n",
       "      <th>moth</th>\n",
       "      <th>fwhte</th>\n",
       "      <th>fblck</th>\n",
       "      <th>foth</th>\n",
       "      <th>bwght</th>\n",
       "    </tr>\n",
       "  </thead>\n",
       "  <tbody>\n",
       "    <tr>\n",
       "      <th>73</th>\n",
       "      <td>47</td>\n",
       "      <td>15.0</td>\n",
       "      <td>2</td>\n",
       "      <td>NaN</td>\n",
       "      <td>39</td>\n",
       "      <td>17.0</td>\n",
       "      <td>9</td>\n",
       "      <td>9</td>\n",
       "      <td>19</td>\n",
       "      <td>7</td>\n",
       "      <td>1</td>\n",
       "      <td>0</td>\n",
       "      <td>0</td>\n",
       "      <td>1</td>\n",
       "      <td>0</td>\n",
       "      <td>0</td>\n",
       "      <td>1</td>\n",
       "      <td>3170</td>\n",
       "    </tr>\n",
       "    <tr>\n",
       "      <th>111</th>\n",
       "      <td>38</td>\n",
       "      <td>NaN</td>\n",
       "      <td>1</td>\n",
       "      <td>NaN</td>\n",
       "      <td>34</td>\n",
       "      <td>17.0</td>\n",
       "      <td>7</td>\n",
       "      <td>9</td>\n",
       "      <td>11</td>\n",
       "      <td>7</td>\n",
       "      <td>1</td>\n",
       "      <td>0</td>\n",
       "      <td>0</td>\n",
       "      <td>1</td>\n",
       "      <td>0</td>\n",
       "      <td>0</td>\n",
       "      <td>1</td>\n",
       "      <td>3610</td>\n",
       "    </tr>\n",
       "    <tr>\n",
       "      <th>185</th>\n",
       "      <td>38</td>\n",
       "      <td>12.0</td>\n",
       "      <td>2</td>\n",
       "      <td>NaN</td>\n",
       "      <td>32</td>\n",
       "      <td>14.0</td>\n",
       "      <td>9</td>\n",
       "      <td>9</td>\n",
       "      <td>13</td>\n",
       "      <td>0</td>\n",
       "      <td>1</td>\n",
       "      <td>0</td>\n",
       "      <td>1</td>\n",
       "      <td>0</td>\n",
       "      <td>0</td>\n",
       "      <td>1</td>\n",
       "      <td>0</td>\n",
       "      <td>4210</td>\n",
       "    </tr>\n",
       "  </tbody>\n",
       "</table>\n",
       "</div>"
      ],
      "text/plain": [
       "     mage  meduc  monpre  npvis  fage  feduc  omaps  fmaps  cigs  drink  male  mwhte  mblck  moth  fwhte  fblck  foth  bwght\n",
       "73     47   15.0       2    NaN    39   17.0      9      9    19      7     1      0      0     1      0      0     1   3170\n",
       "111    38    NaN       1    NaN    34   17.0      7      9    11      7     1      0      0     1      0      0     1   3610\n",
       "185    38   12.0       2    NaN    32   14.0      9      9    13      0     1      0      1     0      0      1     0   4210"
      ]
     },
     "execution_count": 134,
     "metadata": {},
     "output_type": "execute_result"
    }
   ],
   "source": [
    "#identifing missing values on \"number of prenatal visits\" feature and trying to understand if there's a trend.\n",
    "birthweight.loc[:,:][birthweight.loc[:,'npvis'].isnull()]\n"
   ]
  },
  {
   "cell_type": "code",
   "execution_count": 135,
   "id": "81644d28",
   "metadata": {},
   "outputs": [
    {
     "data": {
      "text/html": [
       "<div>\n",
       "<style scoped>\n",
       "    .dataframe tbody tr th:only-of-type {\n",
       "        vertical-align: middle;\n",
       "    }\n",
       "\n",
       "    .dataframe tbody tr th {\n",
       "        vertical-align: top;\n",
       "    }\n",
       "\n",
       "    .dataframe thead th {\n",
       "        text-align: right;\n",
       "    }\n",
       "</style>\n",
       "<table border=\"1\" class=\"dataframe\">\n",
       "  <thead>\n",
       "    <tr style=\"text-align: right;\">\n",
       "      <th></th>\n",
       "      <th>mage</th>\n",
       "      <th>meduc</th>\n",
       "      <th>monpre</th>\n",
       "      <th>npvis</th>\n",
       "      <th>fage</th>\n",
       "      <th>feduc</th>\n",
       "      <th>omaps</th>\n",
       "      <th>fmaps</th>\n",
       "      <th>cigs</th>\n",
       "      <th>drink</th>\n",
       "      <th>male</th>\n",
       "      <th>mwhte</th>\n",
       "      <th>mblck</th>\n",
       "      <th>moth</th>\n",
       "      <th>fwhte</th>\n",
       "      <th>fblck</th>\n",
       "      <th>foth</th>\n",
       "      <th>bwght</th>\n",
       "    </tr>\n",
       "  </thead>\n",
       "  <tbody>\n",
       "    <tr>\n",
       "      <th>0</th>\n",
       "      <td>69</td>\n",
       "      <td>NaN</td>\n",
       "      <td>5</td>\n",
       "      <td>2.0</td>\n",
       "      <td>62</td>\n",
       "      <td>NaN</td>\n",
       "      <td>4</td>\n",
       "      <td>7</td>\n",
       "      <td>23</td>\n",
       "      <td>9</td>\n",
       "      <td>1</td>\n",
       "      <td>0</td>\n",
       "      <td>1</td>\n",
       "      <td>0</td>\n",
       "      <td>0</td>\n",
       "      <td>1</td>\n",
       "      <td>0</td>\n",
       "      <td>697</td>\n",
       "    </tr>\n",
       "    <tr>\n",
       "      <th>74</th>\n",
       "      <td>42</td>\n",
       "      <td>13.0</td>\n",
       "      <td>7</td>\n",
       "      <td>11.0</td>\n",
       "      <td>26</td>\n",
       "      <td>NaN</td>\n",
       "      <td>9</td>\n",
       "      <td>9</td>\n",
       "      <td>2</td>\n",
       "      <td>4</td>\n",
       "      <td>1</td>\n",
       "      <td>0</td>\n",
       "      <td>1</td>\n",
       "      <td>0</td>\n",
       "      <td>1</td>\n",
       "      <td>0</td>\n",
       "      <td>0</td>\n",
       "      <td>3170</td>\n",
       "    </tr>\n",
       "    <tr>\n",
       "      <th>99</th>\n",
       "      <td>51</td>\n",
       "      <td>17.0</td>\n",
       "      <td>6</td>\n",
       "      <td>8.0</td>\n",
       "      <td>38</td>\n",
       "      <td>NaN</td>\n",
       "      <td>8</td>\n",
       "      <td>9</td>\n",
       "      <td>17</td>\n",
       "      <td>6</td>\n",
       "      <td>0</td>\n",
       "      <td>0</td>\n",
       "      <td>1</td>\n",
       "      <td>0</td>\n",
       "      <td>0</td>\n",
       "      <td>0</td>\n",
       "      <td>1</td>\n",
       "      <td>3459</td>\n",
       "    </tr>\n",
       "    <tr>\n",
       "      <th>114</th>\n",
       "      <td>43</td>\n",
       "      <td>NaN</td>\n",
       "      <td>1</td>\n",
       "      <td>9.0</td>\n",
       "      <td>36</td>\n",
       "      <td>NaN</td>\n",
       "      <td>8</td>\n",
       "      <td>9</td>\n",
       "      <td>5</td>\n",
       "      <td>8</td>\n",
       "      <td>1</td>\n",
       "      <td>0</td>\n",
       "      <td>0</td>\n",
       "      <td>1</td>\n",
       "      <td>0</td>\n",
       "      <td>0</td>\n",
       "      <td>1</td>\n",
       "      <td>3620</td>\n",
       "    </tr>\n",
       "    <tr>\n",
       "      <th>153</th>\n",
       "      <td>37</td>\n",
       "      <td>12.0</td>\n",
       "      <td>8</td>\n",
       "      <td>5.0</td>\n",
       "      <td>40</td>\n",
       "      <td>NaN</td>\n",
       "      <td>7</td>\n",
       "      <td>9</td>\n",
       "      <td>4</td>\n",
       "      <td>0</td>\n",
       "      <td>1</td>\n",
       "      <td>0</td>\n",
       "      <td>1</td>\n",
       "      <td>0</td>\n",
       "      <td>0</td>\n",
       "      <td>0</td>\n",
       "      <td>1</td>\n",
       "      <td>3799</td>\n",
       "    </tr>\n",
       "    <tr>\n",
       "      <th>164</th>\n",
       "      <td>36</td>\n",
       "      <td>12.0</td>\n",
       "      <td>3</td>\n",
       "      <td>6.0</td>\n",
       "      <td>31</td>\n",
       "      <td>NaN</td>\n",
       "      <td>7</td>\n",
       "      <td>9</td>\n",
       "      <td>16</td>\n",
       "      <td>2</td>\n",
       "      <td>0</td>\n",
       "      <td>0</td>\n",
       "      <td>1</td>\n",
       "      <td>0</td>\n",
       "      <td>0</td>\n",
       "      <td>0</td>\n",
       "      <td>1</td>\n",
       "      <td>3900</td>\n",
       "    </tr>\n",
       "    <tr>\n",
       "      <th>191</th>\n",
       "      <td>30</td>\n",
       "      <td>12.0</td>\n",
       "      <td>5</td>\n",
       "      <td>12.0</td>\n",
       "      <td>38</td>\n",
       "      <td>NaN</td>\n",
       "      <td>5</td>\n",
       "      <td>7</td>\n",
       "      <td>3</td>\n",
       "      <td>2</td>\n",
       "      <td>1</td>\n",
       "      <td>0</td>\n",
       "      <td>1</td>\n",
       "      <td>0</td>\n",
       "      <td>0</td>\n",
       "      <td>0</td>\n",
       "      <td>1</td>\n",
       "      <td>4610</td>\n",
       "    </tr>\n",
       "  </tbody>\n",
       "</table>\n",
       "</div>"
      ],
      "text/plain": [
       "     mage  meduc  monpre  npvis  fage  feduc  omaps  fmaps  cigs  drink  male  mwhte  mblck  moth  fwhte  fblck  foth  bwght\n",
       "0      69    NaN       5    2.0    62    NaN      4      7    23      9     1      0      1     0      0      1     0    697\n",
       "74     42   13.0       7   11.0    26    NaN      9      9     2      4     1      0      1     0      1      0     0   3170\n",
       "99     51   17.0       6    8.0    38    NaN      8      9    17      6     0      0      1     0      0      0     1   3459\n",
       "114    43    NaN       1    9.0    36    NaN      8      9     5      8     1      0      0     1      0      0     1   3620\n",
       "153    37   12.0       8    5.0    40    NaN      7      9     4      0     1      0      1     0      0      0     1   3799\n",
       "164    36   12.0       3    6.0    31    NaN      7      9    16      2     0      0      1     0      0      0     1   3900\n",
       "191    30   12.0       5   12.0    38    NaN      5      7     3      2     1      0      1     0      0      0     1   4610"
      ]
     },
     "execution_count": 135,
     "metadata": {},
     "output_type": "execute_result"
    }
   ],
   "source": [
    "#identifing missing values on fathers education feature and trying to understand if there's a trend.\n",
    "birthweight.loc[:,:][birthweight.loc[:,'feduc'].isnull()]"
   ]
  },
  {
   "cell_type": "code",
   "execution_count": 136,
   "id": "e6c7f9be",
   "metadata": {},
   "outputs": [
    {
     "data": {
      "text/plain": [
       "mage      0\n",
       "meduc     3\n",
       "monpre    0\n",
       "npvis     3\n",
       "fage      0\n",
       "feduc     7\n",
       "omaps     0\n",
       "fmaps     0\n",
       "cigs      0\n",
       "drink     0\n",
       "male      0\n",
       "mwhte     0\n",
       "mblck     0\n",
       "moth      0\n",
       "fwhte     0\n",
       "fblck     0\n",
       "foth      0\n",
       "bwght     0\n",
       "dtype: int64"
      ]
     },
     "execution_count": 136,
     "metadata": {},
     "output_type": "execute_result"
    }
   ],
   "source": [
    "# Identifing the total number of missing values.\n",
    "birthweight.isnull().sum(axis=0)"
   ]
  },
  {
   "cell_type": "code",
   "execution_count": 137,
   "id": "b665e944",
   "metadata": {
    "cell_style": "split"
   },
   "outputs": [
    {
     "data": {
      "image/png": "[encoded data removed]",
      "text/plain": [
       "<Figure size 432x288 with 1 Axes>"
      ]
     },
     "metadata": {
      "needs_background": "light"
     },
     "output_type": "display_data"
    }
   ],
   "source": [
    "# developing a histogram using HISTPLOT\n",
    "sns.histplot(data   = birthweight,\n",
    "             x      = 'meduc',\n",
    "             kde    = True)\n",
    "\n",
    "\n",
    "# title and axis labels\n",
    "plt.title(label   = \"Original Distribution of Mothers Education\")\n",
    "plt.xlabel(xlabel = \"Mothers Education\") # avoiding using dataset labels\n",
    "plt.ylabel(ylabel = \"Count\")\n",
    "plt.axvline(x = birthweight['meduc'].mean(),\n",
    "            color = 'red')\n",
    "plt.axvline(x = birthweight['meduc'].median(),\n",
    "            color = 'blue')\n",
    "plt.legend(labels =  ['mean', 'median'])\n",
    "# displaying the histogram\n",
    "plt.show()"
   ]
  },
  {
   "cell_type": "code",
   "execution_count": 138,
   "id": "8558cf83",
   "metadata": {
    "cell_style": "split"
   },
   "outputs": [
    {
     "data": {
      "image/png": "[encoded data removed]",
      "text/plain": [
       "<Figure size 432x288 with 1 Axes>"
      ]
     },
     "metadata": {
      "needs_background": "light"
     },
     "output_type": "display_data"
    }
   ],
   "source": [
    "# developing a histogram using HISTPLOT\n",
    "sns.histplot(data   = birthweight,\n",
    "             x      = 'npvis',\n",
    "             kde    = True)\n",
    "\n",
    "\n",
    "# title and axis labels\n",
    "plt.title(label   = \"Original Distribution of # Prenatal visits\")\n",
    "plt.xlabel(xlabel = \"# Prenatal visits\") # avoiding using dataset labels\n",
    "plt.ylabel(ylabel = \"Count\")\n",
    "plt.axvline(x = birthweight['npvis'].mean(),\n",
    "            color = 'red')\n",
    "plt.axvline(x = birthweight['npvis'].median(),\n",
    "            color = 'blue')\n",
    "plt.legend(labels =  ['mean', 'median'])\n",
    "# displaying the histogram\n",
    "plt.show()"
   ]
  },
  {
   "cell_type": "code",
   "execution_count": 139,
   "id": "94c915ae",
   "metadata": {
    "cell_style": "split"
   },
   "outputs": [
    {
     "data": {
      "image/png": "[encoded data removed]",
      "text/plain": [
       "<Figure size 432x288 with 1 Axes>"
      ]
     },
     "metadata": {
      "needs_background": "light"
     },
     "output_type": "display_data"
    }
   ],
   "source": [
    "# developing a histogram using HISTPLOT\n",
    "sns.histplot(data   = birthweight,\n",
    "             x      = 'feduc',\n",
    "             kde    = True)\n",
    "\n",
    "\n",
    "# title and axis labels\n",
    "plt.title(label   = \"Original Distribution of Fathers Education\")\n",
    "plt.xlabel(xlabel = \"Fathers Education\") # avoiding using dataset labels\n",
    "plt.ylabel(ylabel = \"Count\")\n",
    "plt.axvline(x = birthweight['feduc'].mean(),\n",
    "            color = 'red')\n",
    "plt.axvline(x = birthweight['feduc'].median(),\n",
    "            color = 'blue')\n",
    "plt.legend(labels =  ['mean', 'median'])\n",
    "\n",
    "# displaying the histogram\n",
    "plt.show()"
   ]
  },
  {
   "cell_type": "code",
   "execution_count": 140,
   "id": "fd36b9a3",
   "metadata": {
    "cell_style": "split",
    "scrolled": true
   },
   "outputs": [
    {
     "data": {
      "image/png": "[encoded data removed]",
      "text/plain": [
       "<Figure size 432x288 with 1 Axes>"
      ]
     },
     "metadata": {
      "needs_background": "light"
     },
     "output_type": "display_data"
    }
   ],
   "source": [
    "# developing a histogram using HISTPLOT\n",
    "sns.histplot(data   = birthweight,\n",
    "             x      = 'bwght',\n",
    "             kde    = True)\n",
    "\n",
    "\n",
    "# title and axis labels\n",
    "plt.title(label   = \"Original Distribution of Birthweight\")\n",
    "plt.xlabel(xlabel = \"Birthweight\") # avoiding using dataset labels\n",
    "plt.ylabel(ylabel = \"Count\")\n",
    "plt.axvline(x = birthweight['bwght'].mean(),\n",
    "            color = 'red')\n",
    "plt.axvline(x = birthweight['bwght'].median(),\n",
    "            color = 'blue')\n",
    "plt.legend(labels =  ['mean', 'median'])\n",
    "# displaying the histogram\n",
    "plt.show()"
   ]
  },
  {
   "cell_type": "code",
   "execution_count": 141,
   "id": "3b40dfc8",
   "metadata": {},
   "outputs": [
    {
     "data": {
      "text/html": [
       "<div>\n",
       "<style scoped>\n",
       "    .dataframe tbody tr th:only-of-type {\n",
       "        vertical-align: middle;\n",
       "    }\n",
       "\n",
       "    .dataframe tbody tr th {\n",
       "        vertical-align: top;\n",
       "    }\n",
       "\n",
       "    .dataframe thead th {\n",
       "        text-align: right;\n",
       "    }\n",
       "</style>\n",
       "<table border=\"1\" class=\"dataframe\">\n",
       "  <thead>\n",
       "    <tr style=\"text-align: right;\">\n",
       "      <th></th>\n",
       "      <th>mage</th>\n",
       "      <th>meduc</th>\n",
       "      <th>monpre</th>\n",
       "      <th>npvis</th>\n",
       "      <th>fage</th>\n",
       "      <th>feduc</th>\n",
       "      <th>omaps</th>\n",
       "      <th>fmaps</th>\n",
       "      <th>cigs</th>\n",
       "      <th>drink</th>\n",
       "      <th>male</th>\n",
       "      <th>mwhte</th>\n",
       "      <th>mblck</th>\n",
       "      <th>moth</th>\n",
       "      <th>fwhte</th>\n",
       "      <th>fblck</th>\n",
       "      <th>foth</th>\n",
       "      <th>bwght</th>\n",
       "    </tr>\n",
       "  </thead>\n",
       "  <tbody>\n",
       "    <tr>\n",
       "      <th>count</th>\n",
       "      <td>196.000000</td>\n",
       "      <td>193.000000</td>\n",
       "      <td>196.000000</td>\n",
       "      <td>193.000000</td>\n",
       "      <td>196.000000</td>\n",
       "      <td>189.000000</td>\n",
       "      <td>196.000000</td>\n",
       "      <td>196.000000</td>\n",
       "      <td>196.000000</td>\n",
       "      <td>196.000000</td>\n",
       "      <td>196.000000</td>\n",
       "      <td>196.000000</td>\n",
       "      <td>196.000000</td>\n",
       "      <td>196.000000</td>\n",
       "      <td>196.000000</td>\n",
       "      <td>196.000000</td>\n",
       "      <td>196.000000</td>\n",
       "      <td>196.000000</td>\n",
       "    </tr>\n",
       "    <tr>\n",
       "      <th>mean</th>\n",
       "      <td>40.153061</td>\n",
       "      <td>13.911917</td>\n",
       "      <td>2.341837</td>\n",
       "      <td>11.601036</td>\n",
       "      <td>39.290816</td>\n",
       "      <td>13.846561</td>\n",
       "      <td>8.193878</td>\n",
       "      <td>8.964286</td>\n",
       "      <td>10.928571</td>\n",
       "      <td>5.397959</td>\n",
       "      <td>0.551020</td>\n",
       "      <td>0.270408</td>\n",
       "      <td>0.382653</td>\n",
       "      <td>0.346939</td>\n",
       "      <td>0.346939</td>\n",
       "      <td>0.341837</td>\n",
       "      <td>0.311224</td>\n",
       "      <td>3334.086735</td>\n",
       "    </tr>\n",
       "    <tr>\n",
       "      <th>std</th>\n",
       "      <td>10.250055</td>\n",
       "      <td>2.055864</td>\n",
       "      <td>1.355136</td>\n",
       "      <td>4.267293</td>\n",
       "      <td>8.982725</td>\n",
       "      <td>2.634217</td>\n",
       "      <td>1.576482</td>\n",
       "      <td>0.651428</td>\n",
       "      <td>6.101282</td>\n",
       "      <td>3.001674</td>\n",
       "      <td>0.498664</td>\n",
       "      <td>0.445308</td>\n",
       "      <td>0.487279</td>\n",
       "      <td>0.477215</td>\n",
       "      <td>0.477215</td>\n",
       "      <td>0.475540</td>\n",
       "      <td>0.464180</td>\n",
       "      <td>646.700904</td>\n",
       "    </tr>\n",
       "    <tr>\n",
       "      <th>min</th>\n",
       "      <td>23.000000</td>\n",
       "      <td>8.000000</td>\n",
       "      <td>1.000000</td>\n",
       "      <td>2.000000</td>\n",
       "      <td>23.000000</td>\n",
       "      <td>1.000000</td>\n",
       "      <td>2.000000</td>\n",
       "      <td>5.000000</td>\n",
       "      <td>0.000000</td>\n",
       "      <td>0.000000</td>\n",
       "      <td>0.000000</td>\n",
       "      <td>0.000000</td>\n",
       "      <td>0.000000</td>\n",
       "      <td>0.000000</td>\n",
       "      <td>0.000000</td>\n",
       "      <td>0.000000</td>\n",
       "      <td>0.000000</td>\n",
       "      <td>697.000000</td>\n",
       "    </tr>\n",
       "    <tr>\n",
       "      <th>25%</th>\n",
       "      <td>33.000000</td>\n",
       "      <td>12.000000</td>\n",
       "      <td>2.000000</td>\n",
       "      <td>10.000000</td>\n",
       "      <td>34.750000</td>\n",
       "      <td>12.000000</td>\n",
       "      <td>8.000000</td>\n",
       "      <td>9.000000</td>\n",
       "      <td>6.000000</td>\n",
       "      <td>4.000000</td>\n",
       "      <td>0.000000</td>\n",
       "      <td>0.000000</td>\n",
       "      <td>0.000000</td>\n",
       "      <td>0.000000</td>\n",
       "      <td>0.000000</td>\n",
       "      <td>0.000000</td>\n",
       "      <td>0.000000</td>\n",
       "      <td>2916.250000</td>\n",
       "    </tr>\n",
       "    <tr>\n",
       "      <th>50%</th>\n",
       "      <td>39.000000</td>\n",
       "      <td>14.000000</td>\n",
       "      <td>2.000000</td>\n",
       "      <td>12.000000</td>\n",
       "      <td>38.000000</td>\n",
       "      <td>14.000000</td>\n",
       "      <td>9.000000</td>\n",
       "      <td>9.000000</td>\n",
       "      <td>11.000000</td>\n",
       "      <td>5.000000</td>\n",
       "      <td>1.000000</td>\n",
       "      <td>0.000000</td>\n",
       "      <td>0.000000</td>\n",
       "      <td>0.000000</td>\n",
       "      <td>0.000000</td>\n",
       "      <td>0.000000</td>\n",
       "      <td>0.000000</td>\n",
       "      <td>3452.000000</td>\n",
       "    </tr>\n",
       "    <tr>\n",
       "      <th>75%</th>\n",
       "      <td>46.000000</td>\n",
       "      <td>16.000000</td>\n",
       "      <td>3.000000</td>\n",
       "      <td>12.000000</td>\n",
       "      <td>43.000000</td>\n",
       "      <td>16.000000</td>\n",
       "      <td>9.000000</td>\n",
       "      <td>9.000000</td>\n",
       "      <td>15.250000</td>\n",
       "      <td>7.250000</td>\n",
       "      <td>1.000000</td>\n",
       "      <td>1.000000</td>\n",
       "      <td>1.000000</td>\n",
       "      <td>1.000000</td>\n",
       "      <td>1.000000</td>\n",
       "      <td>1.000000</td>\n",
       "      <td>1.000000</td>\n",
       "      <td>3759.500000</td>\n",
       "    </tr>\n",
       "    <tr>\n",
       "      <th>max</th>\n",
       "      <td>71.000000</td>\n",
       "      <td>17.000000</td>\n",
       "      <td>8.000000</td>\n",
       "      <td>35.000000</td>\n",
       "      <td>73.000000</td>\n",
       "      <td>17.000000</td>\n",
       "      <td>10.000000</td>\n",
       "      <td>10.000000</td>\n",
       "      <td>25.000000</td>\n",
       "      <td>14.000000</td>\n",
       "      <td>1.000000</td>\n",
       "      <td>1.000000</td>\n",
       "      <td>1.000000</td>\n",
       "      <td>1.000000</td>\n",
       "      <td>1.000000</td>\n",
       "      <td>1.000000</td>\n",
       "      <td>1.000000</td>\n",
       "      <td>4933.000000</td>\n",
       "    </tr>\n",
       "  </tbody>\n",
       "</table>\n",
       "</div>"
      ],
      "text/plain": [
       "             mage       meduc      monpre       npvis        fage       feduc       omaps       fmaps        cigs       drink        male       mwhte       mblck        moth       fwhte       fblck        foth        bwght\n",
       "count  196.000000  193.000000  196.000000  193.000000  196.000000  189.000000  196.000000  196.000000  196.000000  196.000000  196.000000  196.000000  196.000000  196.000000  196.000000  196.000000  196.000000   196.000000\n",
       "mean    40.153061   13.911917    2.341837   11.601036   39.290816   13.846561    8.193878    8.964286   10.928571    5.397959    0.551020    0.270408    0.382653    0.346939    0.346939    0.341837    0.311224  3334.086735\n",
       "std     10.250055    2.055864    1.355136    4.267293    8.982725    2.634217    1.576482    0.651428    6.101282    3.001674    0.498664    0.445308    0.487279    0.477215    0.477215    0.475540    0.464180   646.700904\n",
       "min     23.000000    8.000000    1.000000    2.000000   23.000000    1.000000    2.000000    5.000000    0.000000    0.000000    0.000000    0.000000    0.000000    0.000000    0.000000    0.000000    0.000000   697.000000\n",
       "25%     33.000000   12.000000    2.000000   10.000000   34.750000   12.000000    8.000000    9.000000    6.000000    4.000000    0.000000    0.000000    0.000000    0.000000    0.000000    0.000000    0.000000  2916.250000\n",
       "50%     39.000000   14.000000    2.000000   12.000000   38.000000   14.000000    9.000000    9.000000   11.000000    5.000000    1.000000    0.000000    0.000000    0.000000    0.000000    0.000000    0.000000  3452.000000\n",
       "75%     46.000000   16.000000    3.000000   12.000000   43.000000   16.000000    9.000000    9.000000   15.250000    7.250000    1.000000    1.000000    1.000000    1.000000    1.000000    1.000000    1.000000  3759.500000\n",
       "max     71.000000   17.000000    8.000000   35.000000   73.000000   17.000000   10.000000   10.000000   25.000000   14.000000    1.000000    1.000000    1.000000    1.000000    1.000000    1.000000    1.000000  4933.000000"
      ]
     },
     "execution_count": 141,
     "metadata": {},
     "output_type": "execute_result"
    }
   ],
   "source": [
    "birthweight.describe()"
   ]
  },
  {
   "cell_type": "markdown",
   "id": "64795fba",
   "metadata": {},
   "source": [
    "After reviewing and identifying the missing values on the features, I decided to fill the missing values the following way:\n",
    "- meduc --> Use the mode as the criteria.\n",
    "- feduc --> Use the mode as the criteria.\n",
    "- npvis --> Use mean as the criteria to fill the missing values."
   ]
  },
  {
   "cell_type": "code",
   "execution_count": 142,
   "id": "09e8e898",
   "metadata": {},
   "outputs": [
    {
     "name": "stdout",
     "output_type": "stream",
     "text": [
      "False\n",
      "False\n",
      "False\n"
     ]
    }
   ],
   "source": [
    "#Filling missing values using the mode for mothers education\n",
    "\n",
    "meduc_mode = birthweight['meduc'].mode()[0]\n",
    "\n",
    "#filling meduc with mode\n",
    "\n",
    "birthweight['meduc'].fillna(value = meduc_mode,\n",
    "                     inplace = True)\n",
    "\n",
    "#checking to see if any null left\n",
    "\n",
    "print(birthweight['meduc'].isnull().any())\n",
    "\n",
    "#Filling missing values using the mode for fathers education\n",
    "\n",
    "meduc_mode = birthweight['feduc'].mode()[0]\n",
    "\n",
    "#filling meduc with mode\n",
    "\n",
    "birthweight['feduc'].fillna(value = meduc_mode,\n",
    "                     inplace = True)\n",
    "\n",
    "#checking to see if any null left\n",
    "\n",
    "print(birthweight['meduc'].isnull().any())\n",
    "\n",
    "#Filling missing values using the mean for npvis\n",
    "\n",
    "npvis_mean = birthweight['npvis'].mean()\n",
    "\n",
    "#filling npvis with mean\n",
    "\n",
    "birthweight['npvis'].fillna(value = npvis_mean,\n",
    "                     inplace = True)\n",
    "\n",
    "#checking to see if any null left\n",
    "\n",
    "print(birthweight['npvis'].isnull().any())"
   ]
  },
  {
   "cell_type": "code",
   "execution_count": 143,
   "id": "a0c4c86f",
   "metadata": {},
   "outputs": [
    {
     "data": {
      "text/plain": [
       "mage      0\n",
       "meduc     0\n",
       "monpre    0\n",
       "npvis     0\n",
       "fage      0\n",
       "feduc     0\n",
       "omaps     0\n",
       "fmaps     0\n",
       "cigs      0\n",
       "drink     0\n",
       "male      0\n",
       "mwhte     0\n",
       "mblck     0\n",
       "moth      0\n",
       "fwhte     0\n",
       "fblck     0\n",
       "foth      0\n",
       "bwght     0\n",
       "dtype: int64"
      ]
     },
     "execution_count": 143,
     "metadata": {},
     "output_type": "execute_result"
    }
   ],
   "source": [
    "# Verifying if there's any missing values left.\n",
    "birthweight.isnull().sum(axis=0)"
   ]
  },
  {
   "cell_type": "markdown",
   "id": "a49f6afc",
   "metadata": {},
   "source": [
    "Once the data has been cleaned and adjusted for use, then we can move on to creating the model and begin our analysis."
   ]
  },
  {
   "cell_type": "code",
   "execution_count": 145,
   "id": "2324a930",
   "metadata": {},
   "outputs": [
    {
     "name": "stdout",
     "output_type": "stream",
     "text": [
      "'mage' , 'meduc' , 'monpre' , 'npvis' , 'fage' , 'feduc' , 'omaps' , 'fmaps' , 'cigs' , 'drink' , 'male' , 'mwhte' , 'mblck' , 'moth' , 'fwhte' , 'fblck' , 'foth' , 'bwght' , "
     ]
    }
   ],
   "source": [
    "#Printing the features with \"\" for easier use in correlation code.\n",
    "for column in birthweight:\n",
    "    print(\"'\"+ column + \"'\", end = \" , \")"
   ]
  },
  {
   "cell_type": "code",
   "execution_count": 150,
   "id": "3f89b0a5",
   "metadata": {},
   "outputs": [
    {
     "data": {
      "text/plain": [
       "bwght     1.00\n",
       "omaps     0.25\n",
       "fmaps     0.25\n",
       "feduc     0.13\n",
       "mblck     0.13\n",
       "fblck     0.12\n",
       "meduc     0.11\n",
       "male      0.11\n",
       "npvis     0.06\n",
       "moth     -0.02\n",
       "fwhte    -0.04\n",
       "monpre   -0.05\n",
       "foth     -0.08\n",
       "mwhte    -0.11\n",
       "fage     -0.40\n",
       "mage     -0.46\n",
       "cigs     -0.57\n",
       "drink    -0.74\n",
       "Name: bwght, dtype: float64"
      ]
     },
     "execution_count": 150,
     "metadata": {},
     "output_type": "execute_result"
    }
   ],
   "source": [
    "# creating a list of continuous features (including bwght)\n",
    "continuous_data = ['mage' , 'meduc' , 'monpre' , 'npvis' , \n",
    "                   'fage' , 'feduc' , 'omaps' , 'fmaps' , 'cigs' , 'drink' , 'male' , 'mwhte' , 'mblck' , 'moth' , 'fwhte' , 'fblck' , 'foth' , 'bwght' ]\n",
    "\n",
    "\n",
    "# developing a correlation matrix based on continuous features\n",
    "birthweight_corr = birthweight[continuous_data].corr(method = 'pearson')\n",
    "\n",
    "\n",
    "# filtering the results to only show correlations with bwght\n",
    "birthweight_corr.loc[ : , 'bwght'].round(decimals = 2).sort_values(ascending = False)"
   ]
  },
  {
   "cell_type": "markdown",
   "id": "6169f447",
   "metadata": {},
   "source": [
    "<hr style=\"height:.9px;border:none;color:#333;background-color:#333;\" />\n",
    "<hr style=\"height:.9px;border:none;color:#333;background-color:#333;\" />\n",
    "\n",
    "<strong><h2>Building A Base Model</h2><strong><br>"
   ]
  },
  {
   "cell_type": "code",
   "execution_count": 151,
   "id": "1feeb93a",
   "metadata": {},
   "outputs": [
    {
     "name": "stdout",
     "output_type": "stream",
     "text": [
      "mage + meduc + monpre + npvis + fage + feduc + omaps + fmaps + cigs + drink + male + mwhte + mblck + moth + fwhte + fblck + foth + bwght + "
     ]
    }
   ],
   "source": [
    "#Printing the features with \"+\" for easier use in OLS regression code.\n",
    "for column in birthweight:\n",
    "    print(\"\"+ column + \"\", end = \" + \")"
   ]
  },
  {
   "cell_type": "markdown",
   "id": "08fc78a6",
   "metadata": {},
   "source": [
    "<strong>The following cells will be different tests with different variables in order to determine which combination gives us the most relevant values in order to conclude our analysis.\n",
    "As we progress in the regressions, we can eliminate those variables that give us values out of range and that indicate that they have a very low correlation with our dependent variable, in this case \"Birthweight\"</strong>"
   ]
  },
  {
   "cell_type": "code",
   "execution_count": 152,
   "id": "d3842006",
   "metadata": {},
   "outputs": [
    {
     "name": "stdout",
     "output_type": "stream",
     "text": [
      "                            OLS Regression Results                            \n",
      "==============================================================================\n",
      "Dep. Variable:                  bwght   R-squared:                       0.722\n",
      "Model:                            OLS   Adj. R-squared:                  0.699\n",
      "Method:                 Least Squares   F-statistic:                     31.12\n",
      "Date:                Mon, 22 Nov 2021   Prob (F-statistic):           4.36e-42\n",
      "Time:                        18:04:31   Log-Likelihood:                -1420.7\n",
      "No. Observations:                 196   AIC:                             2873.\n",
      "Df Residuals:                     180   BIC:                             2926.\n",
      "Df Model:                          15                                         \n",
      "Covariance Type:            nonrobust                                         \n",
      "==============================================================================\n",
      "                 coef    std err          t      P>|t|      [0.025      0.975]\n",
      "------------------------------------------------------------------------------\n",
      "Intercept   2313.2059    294.653      7.851      0.000    1731.788    2894.624\n",
      "mage         -10.6070      3.281     -3.232      0.001     -17.082      -4.132\n",
      "meduc         18.5618     16.739      1.109      0.269     -14.468      51.591\n",
      "monpre         1.6951     22.628      0.075      0.940     -42.955      46.346\n",
      "npvis          1.5479      6.561      0.236      0.814     -11.399      14.495\n",
      "fage          -4.7800      3.568     -1.340      0.182     -11.820       2.260\n",
      "feduc         12.0653     14.723      0.819      0.414     -16.986      41.117\n",
      "omaps         -6.3951     22.713     -0.282      0.779     -51.213      38.423\n",
      "fmaps         78.5084     52.221      1.503      0.134     -24.536     181.553\n",
      "cigs         -36.1706      4.666     -7.752      0.000     -45.378     -26.963\n",
      "drink       -113.7937      9.813    -11.596      0.000    -133.157     -94.431\n",
      "male          20.8229     52.789      0.394      0.694     -83.341     124.987\n",
      "mwhte        838.8675    123.279      6.805      0.000     595.609    1082.126\n",
      "mblck        720.6103    124.270      5.799      0.000     475.397     965.823\n",
      "moth         753.7281    125.290      6.016      0.000     506.503    1000.953\n",
      "fwhte        720.5444    116.386      6.191      0.000     490.887     950.202\n",
      "fblck        838.8071    128.153      6.545      0.000     585.931    1091.683\n",
      "foth         753.8544    126.398      5.964      0.000     504.441    1003.268\n",
      "==============================================================================\n",
      "Omnibus:                        2.425   Durbin-Watson:                   1.326\n",
      "Prob(Omnibus):                  0.297   Jarque-Bera (JB):                2.382\n",
      "Skew:                          -0.041   Prob(JB):                        0.304\n",
      "Kurtosis:                       3.534   Cond. No.                     7.43e+17\n",
      "==============================================================================\n",
      "\n",
      "Notes:\n",
      "[1] Standard Errors assume that the covariance matrix of the errors is correctly specified.\n",
      "[2] The smallest eigenvalue is 1.45e-30. This might indicate that there are\n",
      "strong multicollinearity problems or that the design matrix is singular.\n"
     ]
    }
   ],
   "source": [
    "# Step 1: INSTANTIATE a model object\n",
    "lm_best = smf.ols(formula = \"\"\"bwght ~ mage + meduc + monpre + npvis + \n",
    "                            fage + feduc + omaps + fmaps + cigs + drink + \n",
    "                            male + mwhte + mblck + moth + fwhte + fblck + \n",
    "                            foth\"\"\", data = birthweight)\n",
    "\n",
    "\n",
    "# Step 2: FIT the data into the model object\n",
    "results = lm_best.fit()\n",
    "\n",
    "\n",
    "# Step 3: analyze the SUMMARY output\n",
    "print(results.summary())"
   ]
  },
  {
   "cell_type": "code",
   "execution_count": 153,
   "id": "09601f43",
   "metadata": {
    "scrolled": true
   },
   "outputs": [
    {
     "name": "stdout",
     "output_type": "stream",
     "text": [
      "                            OLS Regression Results                            \n",
      "==============================================================================\n",
      "Dep. Variable:                  bwght   R-squared:                       0.717\n",
      "Model:                            OLS   Adj. R-squared:                  0.697\n",
      "Method:                 Least Squares   F-statistic:                     35.51\n",
      "Date:                Mon, 22 Nov 2021   Prob (F-statistic):           4.98e-43\n",
      "Time:                        18:04:35   Log-Likelihood:                -1422.3\n",
      "No. Observations:                 196   AIC:                             2873.\n",
      "Df Residuals:                     182   BIC:                             2919.\n",
      "Df Model:                          13                                         \n",
      "Covariance Type:            nonrobust                                         \n",
      "==============================================================================\n",
      "                 coef    std err          t      P>|t|      [0.025      0.975]\n",
      "------------------------------------------------------------------------------\n",
      "Intercept   2709.3122    176.485     15.352      0.000    2361.092    3057.532\n",
      "mage         -11.3001      3.261     -3.465      0.001     -17.734      -4.866\n",
      "meduc         20.1005     16.749      1.200      0.232     -12.946      53.147\n",
      "monpre         3.0593     22.662      0.135      0.893     -41.654      47.773\n",
      "npvis          2.1443      6.564      0.327      0.744     -10.806      15.095\n",
      "fage          -5.1605      3.569     -1.446      0.150     -12.203       1.882\n",
      "feduc         12.9977     14.403      0.902      0.368     -15.420      41.416\n",
      "cigs         -36.4419      4.631     -7.869      0.000     -45.580     -27.304\n",
      "drink       -114.5529      9.827    -11.657      0.000    -133.943     -95.163\n",
      "male          16.3289     52.778      0.309      0.757     -87.806     120.464\n",
      "mwhte        977.9435     90.541     10.801      0.000     799.299    1156.588\n",
      "mblck        838.5998    102.593      8.174      0.000     636.175    1041.025\n",
      "moth         892.7689     94.848      9.413      0.000     705.627    1079.911\n",
      "fwhte        849.2440     87.942      9.657      0.000     675.728    1022.760\n",
      "fblck        982.2229     96.077     10.223      0.000     792.655    1171.791\n",
      "foth         877.8453    102.082      8.599      0.000     676.430    1079.261\n",
      "==============================================================================\n",
      "Omnibus:                        3.990   Durbin-Watson:                   1.314\n",
      "Prob(Omnibus):                  0.136   Jarque-Bera (JB):                4.860\n",
      "Skew:                          -0.070   Prob(JB):                       0.0880\n",
      "Kurtosis:                       3.759   Cond. No.                     8.10e+17\n",
      "==============================================================================\n",
      "\n",
      "Notes:\n",
      "[1] Standard Errors assume that the covariance matrix of the errors is correctly specified.\n",
      "[2] The smallest eigenvalue is 1.18e-30. This might indicate that there are\n",
      "strong multicollinearity problems or that the design matrix is singular.\n"
     ]
    }
   ],
   "source": [
    "# removing 'omaps' and 'fmaps' from the regression because this variables won't \n",
    "# impact the birthweight since both are measured after birth.\n",
    "\n",
    "# Step 1: INSTANTIATE a model object\n",
    "lm_best = smf.ols(formula = \"\"\"bwght ~ mage + meduc + monpre + npvis + \n",
    "                            fage + feduc + cigs + drink + male + mwhte + \n",
    "                            mblck + moth + fwhte + fblck + foth\"\"\", data = birthweight)\n",
    "\n",
    "# Step 2: FIT the data into the model object\n",
    "results = lm_best.fit()\n",
    "\n",
    "\n",
    "# Step 3: analyze the SUMMARY output\n",
    "print(results.summary())\n",
    "\n"
   ]
  },
  {
   "cell_type": "markdown",
   "id": "0eeb2ade",
   "metadata": {},
   "source": [
    "After running the first couple of regressions, I decided to run a histogram on all the variables to identify the skewness of each one of them and then decide to to a log on those skewed.\n",
    "<hr style=\"height:.9px;border:none;color:#333;background-color:#333;\" />\n",
    "<br><h3>Histograms</h3>"
   ]
  },
  {
   "cell_type": "code",
   "execution_count": 154,
   "id": "3f097c36",
   "metadata": {},
   "outputs": [
    {
     "data": {
      "image/png": "[encoded data removed]",
      "text/plain": [
       "<Figure size 432x288 with 1 Axes>"
      ]
     },
     "metadata": {
      "needs_background": "light"
     },
     "output_type": "display_data"
    },
    {
     "data": {
      "image/png": "[encoded data removed]",
      "text/plain": [
       "<Figure size 432x288 with 1 Axes>"
      ]
     },
     "metadata": {
      "needs_background": "light"
     },
     "output_type": "display_data"
    },
    {
     "data": {
      "image/png": "[encoded data removed]",
      "text/plain": [
       "<Figure size 432x288 with 1 Axes>"
      ]
     },
     "metadata": {
      "needs_background": "light"
     },
     "output_type": "display_data"
    },
    {
     "data": {
      "image/png": "[encoded data removed]",
      "text/plain": [
       "<Figure size 432x288 with 1 Axes>"
      ]
     },
     "metadata": {
      "needs_background": "light"
     },
     "output_type": "display_data"
    },
    {
     "data": {
      "image/png": "[encoded data removed]",
      "text/plain": [
       "<Figure size 432x288 with 1 Axes>"
      ]
     },
     "metadata": {
      "needs_background": "light"
     },
     "output_type": "display_data"
    },
    {
     "data": {
      "image/png": "[encoded data removed]",
      "text/plain": [
       "<Figure size 432x288 with 1 Axes>"
      ]
     },
     "metadata": {
      "needs_background": "light"
     },
     "output_type": "display_data"
    },
    {
     "data": {
      "image/png": "[encoded data removed]",
      "text/plain": [
       "<Figure size 432x288 with 1 Axes>"
      ]
     },
     "metadata": {
      "needs_background": "light"
     },
     "output_type": "display_data"
    },
    {
     "data": {
      "image/png": "[encoded data removed]",
      "text/plain": [
       "<Figure size 432x288 with 1 Axes>"
      ]
     },
     "metadata": {
      "needs_background": "light"
     },
     "output_type": "display_data"
    },
    {
     "data": {
      "image/png": "[encoded data removed]",
      "text/plain": [
       "<Figure size 432x288 with 1 Axes>"
      ]
     },
     "metadata": {
      "needs_background": "light"
     },
     "output_type": "display_data"
    },
    {
     "data": {
      "image/png": "[encoded data removed]",
      "text/plain": [
       "<Figure size 432x288 with 1 Axes>"
      ]
     },
     "metadata": {
      "needs_background": "light"
     },
     "output_type": "display_data"
    },
    {
     "data": {
      "image/png": "[encoded data removed]",
      "text/plain": [
       "<Figure size 432x288 with 1 Axes>"
      ]
     },
     "metadata": {
      "needs_background": "light"
     },
     "output_type": "display_data"
    },
    {
     "data": {
      "image/png": "[encoded data removed]",
      "text/plain": [
       "<Figure size 432x288 with 1 Axes>"
      ]
     },
     "metadata": {
      "needs_background": "light"
     },
     "output_type": "display_data"
    },
    {
     "data": {
      "image/png": "[encoded data removed]",
      "text/plain": [
       "<Figure size 432x288 with 1 Axes>"
      ]
     },
     "metadata": {
      "needs_background": "light"
     },
     "output_type": "display_data"
    },
    {
     "data": {
      "image/png": "[encoded data removed]",
      "text/plain": [
       "<Figure size 432x288 with 1 Axes>"
      ]
     },
     "metadata": {
      "needs_background": "light"
     },
     "output_type": "display_data"
    },
    {
     "data": {
      "image/png": "[encoded data removed]",
      "text/plain": [
       "<Figure size 432x288 with 1 Axes>"
      ]
     },
     "metadata": {
      "needs_background": "light"
     },
     "output_type": "display_data"
    },
    {
     "data": {
      "image/png": "[encoded data removed]",
      "text/plain": [
       "<Figure size 432x288 with 1 Axes>"
      ]
     },
     "metadata": {
      "needs_background": "light"
     },
     "output_type": "display_data"
    },
    {
     "data": {
      "image/png": "[encoded data removed]",
      "text/plain": [
       "<Figure size 432x288 with 1 Axes>"
      ]
     },
     "metadata": {
      "needs_background": "light"
     },
     "output_type": "display_data"
    },
    {
     "data": {
      "image/png": "[encoded data removed]",
      "text/plain": [
       "<Figure size 432x288 with 1 Axes>"
      ]
     },
     "metadata": {
      "needs_background": "light"
     },
     "output_type": "display_data"
    }
   ],
   "source": [
    "# developing a histogram using HISTPLOT\n",
    "for feature in birthweight:\n",
    "    sns.histplot(data   = birthweight,\n",
    "             x      = feature,\n",
    "             kde    = True)\n",
    "\n",
    "\n",
    "    # title and axis labels\n",
    "    plt.title(label   = feature)\n",
    "    plt.xlabel(xlabel = feature) # avoiding using dataset labels\n",
    "    plt.ylabel(ylabel = \"Count\")\n",
    "\n",
    "    # displaying the histogram\n",
    "    plt.show()"
   ]
  },
  {
   "cell_type": "code",
   "execution_count": 155,
   "id": "09455acc",
   "metadata": {},
   "outputs": [],
   "source": [
    "# after analyzing the histplot above, I decided to do the log on the explanatory variables that seemed skewed.\n",
    "# log transforming skewed variables and saving it to the dataset\n",
    "birthweight['log_bwght'] = np.log(birthweight['bwght'])\n",
    "birthweight['log_mage'] = np.log(birthweight['mage'])\n",
    "birthweight['log_fage'] = np.log(birthweight['fage'])\n",
    "birthweight['log_meduc'] = np.log(birthweight['meduc'])\n",
    "birthweight['log_npvis'] = np.log(birthweight['npvis'])\n",
    "birthweight['log_feduc'] = np.log(birthweight['feduc'])\n",
    "birthweight['log_omaps'] = np.log(birthweight['omaps'])\n",
    "birthweight['log_monpre'] = np.log(birthweight['monpre'])"
   ]
  },
  {
   "cell_type": "code",
   "execution_count": 156,
   "id": "9e83cf34",
   "metadata": {
    "cell_style": "split"
   },
   "outputs": [
    {
     "data": {
      "image/png": "[encoded data removed]",
      "text/plain": [
       "<Figure size 432x288 with 1 Axes>"
      ]
     },
     "metadata": {
      "needs_background": "light"
     },
     "output_type": "display_data"
    }
   ],
   "source": [
    "# developing a histogram using HISTPLOT\n",
    "sns.histplot(data   = birthweight,\n",
    "             x      = 'log_mage',\n",
    "             kde    = True)\n",
    "\n",
    "\n",
    "# title and axis labels\n",
    "plt.title(label   = \"Logarithmic Distribution of mothers age\")\n",
    "plt.xlabel(xlabel = \"Mothers age\") # avoiding using dataset labels\n",
    "plt.ylabel(ylabel = \"Count\")\n",
    "\n",
    "# displaying the histogram\n",
    "plt.show()"
   ]
  },
  {
   "cell_type": "code",
   "execution_count": 157,
   "id": "092119a3",
   "metadata": {
    "cell_style": "split"
   },
   "outputs": [
    {
     "data": {
      "image/png": "[encoded data removed]",
      "text/plain": [
       "<Figure size 432x288 with 1 Axes>"
      ]
     },
     "metadata": {
      "needs_background": "light"
     },
     "output_type": "display_data"
    }
   ],
   "source": [
    "# developing a histogram using HISTPLOT\n",
    "sns.histplot(data   = birthweight,\n",
    "             x      = 'log_fage',\n",
    "             kde    = True)\n",
    "\n",
    "\n",
    "# title and axis labels\n",
    "plt.title(label   = \"Logarithmic Distribution of fathers age\")\n",
    "plt.xlabel(xlabel = \"Fothers age\") # avoiding using dataset labels\n",
    "plt.ylabel(ylabel = \"Count\")\n",
    "\n",
    "# displaying the histogram\n",
    "plt.show()"
   ]
  },
  {
   "cell_type": "code",
   "execution_count": 158,
   "id": "9ab01769",
   "metadata": {
    "cell_style": "split"
   },
   "outputs": [
    {
     "data": {
      "image/png": "[encoded data removed]",
      "text/plain": [
       "<Figure size 432x288 with 1 Axes>"
      ]
     },
     "metadata": {
      "needs_background": "light"
     },
     "output_type": "display_data"
    }
   ],
   "source": [
    "# developing a histogram using HISTPLOT\n",
    "sns.histplot(data   = birthweight,\n",
    "             x      = 'log_npvis',\n",
    "             kde    = True)\n",
    "\n",
    "\n",
    "# title and axis labels\n",
    "plt.title(label   = \"Logarithmic Distribution of Number of prenatal visits\")\n",
    "plt.xlabel(xlabel = \"Num. Prenatal visits\") # avoiding using dataset labels\n",
    "plt.ylabel(ylabel = \"Count\")\n",
    "\n",
    "# displaying the histogram\n",
    "plt.show()"
   ]
  },
  {
   "cell_type": "code",
   "execution_count": 159,
   "id": "676b757f",
   "metadata": {
    "cell_style": "split"
   },
   "outputs": [
    {
     "data": {
      "image/png": "[encoded data removed]",
      "text/plain": [
       "<Figure size 432x288 with 1 Axes>"
      ]
     },
     "metadata": {
      "needs_background": "light"
     },
     "output_type": "display_data"
    }
   ],
   "source": [
    "# developing a histogram using HISTPLOT\n",
    "sns.histplot(data   = birthweight,\n",
    "             x      = 'log_feduc',\n",
    "             kde    = True)\n",
    "\n",
    "\n",
    "# title and axis labels\n",
    "plt.title(label   = \"Logarithmic Distribution of fathers education\")\n",
    "plt.xlabel(xlabel = \"Fathers education\") # avoiding using dataset labels\n",
    "plt.ylabel(ylabel = \"Count\")\n",
    "\n",
    "# displaying the histogram\n",
    "plt.show()"
   ]
  },
  {
   "cell_type": "code",
   "execution_count": 160,
   "id": "df70e6e4",
   "metadata": {
    "cell_style": "split"
   },
   "outputs": [
    {
     "data": {
      "image/png": "[encoded data removed]",
      "text/plain": [
       "<Figure size 432x288 with 1 Axes>"
      ]
     },
     "metadata": {
      "needs_background": "light"
     },
     "output_type": "display_data"
    }
   ],
   "source": [
    "# developing a histogram using HISTPLOT\n",
    "sns.histplot(data   = birthweight,\n",
    "             x      = 'log_omaps',\n",
    "             kde    = True)\n",
    "\n",
    "\n",
    "# title and axis labels\n",
    "plt.title(label   = \"Logarithmic Distribution of One minute apgar score\")\n",
    "plt.xlabel(xlabel = \"One min. Apgar score\") # avoiding using dataset labels\n",
    "plt.ylabel(ylabel = \"Count\")\n",
    "\n",
    "# displaying the histogram\n",
    "plt.show()"
   ]
  },
  {
   "cell_type": "code",
   "execution_count": 161,
   "id": "89f6bfd1",
   "metadata": {
    "cell_style": "split"
   },
   "outputs": [
    {
     "data": {
      "image/png": "[encoded data removed]",
      "text/plain": [
       "<Figure size 432x288 with 1 Axes>"
      ]
     },
     "metadata": {
      "needs_background": "light"
     },
     "output_type": "display_data"
    }
   ],
   "source": [
    "# developing a histogram using HISTPLOT\n",
    "sns.histplot(data   = birthweight,\n",
    "             x      = 'log_meduc',\n",
    "             kde    = True)\n",
    "\n",
    "\n",
    "# title and axis labels\n",
    "plt.title(label   = \"Logarithmic Distribution of Mothers education\")\n",
    "plt.xlabel(xlabel = \"Mothers Education\") # avoiding using dataset labels\n",
    "plt.ylabel(ylabel = \"Count\")\n",
    "\n",
    "# displaying the histogram\n",
    "plt.show()"
   ]
  },
  {
   "cell_type": "code",
   "execution_count": 162,
   "id": "066bd345",
   "metadata": {
    "cell_style": "split"
   },
   "outputs": [
    {
     "data": {
      "image/png": "[encoded data removed]",
      "text/plain": [
       "<Figure size 432x288 with 1 Axes>"
      ]
     },
     "metadata": {
      "needs_background": "light"
     },
     "output_type": "display_data"
    }
   ],
   "source": [
    "# developing a histogram using HISTPLOT\n",
    "sns.histplot(data   = birthweight,\n",
    "             x      = 'log_monpre',\n",
    "             kde    = True)\n",
    "\n",
    "\n",
    "# title and axis labels\n",
    "plt.title(label   = \"Logarithmic Distribution of month prenatal care began\")\n",
    "plt.xlabel(xlabel = \"Month prenatal care began\") # avoiding using dataset labels\n",
    "plt.ylabel(ylabel = \"Count\")\n",
    "\n",
    "# displaying the histogram\n",
    "plt.show()"
   ]
  },
  {
   "cell_type": "code",
   "execution_count": 163,
   "id": "4117d225",
   "metadata": {},
   "outputs": [
    {
     "name": "stdout",
     "output_type": "stream",
     "text": [
      "                            OLS Regression Results                            \n",
      "==============================================================================\n",
      "Dep. Variable:                  bwght   R-squared:                       0.709\n",
      "Model:                            OLS   Adj. R-squared:                  0.688\n",
      "Method:                 Least Squares   F-statistic:                     34.03\n",
      "Date:                Mon, 22 Nov 2021   Prob (F-statistic):           7.37e-42\n",
      "Time:                        18:04:45   Log-Likelihood:                -1425.3\n",
      "No. Observations:                 196   AIC:                             2879.\n",
      "Df Residuals:                     182   BIC:                             2924.\n",
      "Df Model:                          13                                         \n",
      "Covariance Type:            nonrobust                                         \n",
      "==============================================================================\n",
      "                 coef    std err          t      P>|t|      [0.025      0.975]\n",
      "------------------------------------------------------------------------------\n",
      "Intercept   3696.2639    343.781     10.752      0.000    3017.955    4374.573\n",
      "log_mage    -406.0549    132.809     -3.057      0.003    -668.098    -144.012\n",
      "meduc         20.7486     16.986      1.221      0.223     -12.767      54.264\n",
      "monpre        -0.5555     23.004     -0.024      0.981     -45.945      44.834\n",
      "npvis          2.0160      6.666      0.302      0.763     -11.136      15.168\n",
      "log_fage    -218.4253    144.677     -1.510      0.133    -503.886      67.035\n",
      "feduc         12.9802     14.617      0.888      0.376     -15.861      41.822\n",
      "cigs         -36.6607      4.703     -7.796      0.000     -45.940     -27.382\n",
      "drink       -117.3676      9.907    -11.846      0.000    -136.916     -97.819\n",
      "male          17.9448     53.577      0.335      0.738     -87.767     123.657\n",
      "mwhte       1305.4228    137.087      9.523      0.000    1034.939    1575.907\n",
      "mblck       1173.3249    138.512      8.471      0.000     900.029    1446.621\n",
      "moth        1217.5162    139.116      8.752      0.000     943.028    1492.004\n",
      "fwhte       1180.8233    127.598      9.254      0.000     929.062    1432.585\n",
      "fblck       1304.3972    142.716      9.140      0.000    1022.807    1585.987\n",
      "foth        1211.0433    142.648      8.490      0.000     929.588    1492.499\n",
      "==============================================================================\n",
      "Omnibus:                        5.365   Durbin-Watson:                   1.310\n",
      "Prob(Omnibus):                  0.068   Jarque-Bera (JB):                7.219\n",
      "Skew:                          -0.122   Prob(JB):                       0.0271\n",
      "Kurtosis:                       3.908   Cond. No.                     3.69e+17\n",
      "==============================================================================\n",
      "\n",
      "Notes:\n",
      "[1] Standard Errors assume that the covariance matrix of the errors is correctly specified.\n",
      "[2] The smallest eigenvalue is 1.03e-30. This might indicate that there are\n",
      "strong multicollinearity problems or that the design matrix is singular.\n"
     ]
    }
   ],
   "source": [
    "# Rerunning the OLS regression model but now with the log variables of mage and fage\n",
    "\n",
    "# Step 1: INSTANTIATE a model object\n",
    "lm_best = smf.ols(formula = \"\"\"bwght ~ log_mage + meduc + monpre + npvis + \n",
    "                            log_fage + feduc + cigs + drink + male + mwhte + \n",
    "                            mblck + moth + fwhte + fblck + foth\"\"\", data = birthweight)\n",
    "\n",
    "# Step 2: FIT the data into the model object\n",
    "results = lm_best.fit()\n",
    "\n",
    "\n",
    "# Step 3: analyze the SUMMARY output\n",
    "print(results.summary())\n"
   ]
  },
  {
   "cell_type": "code",
   "execution_count": 164,
   "id": "6ce03980",
   "metadata": {},
   "outputs": [
    {
     "name": "stdout",
     "output_type": "stream",
     "text": [
      "                            OLS Regression Results                            \n",
      "==============================================================================\n",
      "Dep. Variable:                  bwght   R-squared:                       0.717\n",
      "Model:                            OLS   Adj. R-squared:                  0.697\n",
      "Method:                 Least Squares   F-statistic:                     35.51\n",
      "Date:                Mon, 22 Nov 2021   Prob (F-statistic):           4.98e-43\n",
      "Time:                        18:04:47   Log-Likelihood:                -1422.3\n",
      "No. Observations:                 196   AIC:                             2873.\n",
      "Df Residuals:                     182   BIC:                             2919.\n",
      "Df Model:                          13                                         \n",
      "Covariance Type:            nonrobust                                         \n",
      "==============================================================================\n",
      "                 coef    std err          t      P>|t|      [0.025      0.975]\n",
      "------------------------------------------------------------------------------\n",
      "Intercept   2709.3122    176.485     15.352      0.000    2361.092    3057.532\n",
      "mage         -11.3001      3.261     -3.465      0.001     -17.734      -4.866\n",
      "meduc         20.1005     16.749      1.200      0.232     -12.946      53.147\n",
      "monpre         3.0593     22.662      0.135      0.893     -41.654      47.773\n",
      "npvis          2.1443      6.564      0.327      0.744     -10.806      15.095\n",
      "fage          -5.1605      3.569     -1.446      0.150     -12.203       1.882\n",
      "feduc         12.9977     14.403      0.902      0.368     -15.420      41.416\n",
      "cigs         -36.4419      4.631     -7.869      0.000     -45.580     -27.304\n",
      "drink       -114.5529      9.827    -11.657      0.000    -133.943     -95.163\n",
      "male          16.3289     52.778      0.309      0.757     -87.806     120.464\n",
      "mwhte        977.9435     90.541     10.801      0.000     799.299    1156.588\n",
      "mblck        838.5998    102.593      8.174      0.000     636.175    1041.025\n",
      "moth         892.7689     94.848      9.413      0.000     705.627    1079.911\n",
      "fwhte        849.2440     87.942      9.657      0.000     675.728    1022.760\n",
      "fblck        982.2229     96.077     10.223      0.000     792.655    1171.791\n",
      "foth         877.8453    102.082      8.599      0.000     676.430    1079.261\n",
      "==============================================================================\n",
      "Omnibus:                        3.990   Durbin-Watson:                   1.314\n",
      "Prob(Omnibus):                  0.136   Jarque-Bera (JB):                4.860\n",
      "Skew:                          -0.070   Prob(JB):                       0.0880\n",
      "Kurtosis:                       3.759   Cond. No.                     8.10e+17\n",
      "==============================================================================\n",
      "\n",
      "Notes:\n",
      "[1] Standard Errors assume that the covariance matrix of the errors is correctly specified.\n",
      "[2] The smallest eigenvalue is 1.18e-30. This might indicate that there are\n",
      "strong multicollinearity problems or that the design matrix is singular.\n"
     ]
    }
   ],
   "source": [
    "# The model with the logaritmic variables didn't improve. \n",
    "# Running again the previous model \n",
    "\n",
    "# Step 1: INSTANTIATE a model object\n",
    "lm_best = smf.ols(formula = \"\"\"bwght ~ mage + meduc + monpre + npvis + \n",
    "                            fage + feduc + cigs + drink + male + mwhte + \n",
    "                            mblck + moth + fwhte + fblck + foth\"\"\", data = birthweight)\n",
    "\n",
    "# Step 2: FIT the data into the model object\n",
    "results = lm_best.fit()\n",
    "\n",
    "\n",
    "# Step 3: analyze the SUMMARY output\n",
    "print(results.summary())\n",
    "\n"
   ]
  },
  {
   "cell_type": "code",
   "execution_count": 86,
   "id": "94dac23d",
   "metadata": {},
   "outputs": [
    {
     "name": "stdout",
     "output_type": "stream",
     "text": [
      "                            OLS Regression Results                            \n",
      "==============================================================================\n",
      "Dep. Variable:                  bwght   R-squared:                       0.717\n",
      "Model:                            OLS   Adj. R-squared:                  0.699\n",
      "Method:                 Least Squares   F-statistic:                     38.65\n",
      "Date:                Mon, 22 Nov 2021   Prob (F-statistic):           8.19e-44\n",
      "Time:                        10:42:27   Log-Likelihood:                -1422.4\n",
      "No. Observations:                 196   AIC:                             2871.\n",
      "Df Residuals:                     183   BIC:                             2913.\n",
      "Df Model:                          12                                         \n",
      "Covariance Type:            nonrobust                                         \n",
      "==============================================================================\n",
      "                 coef    std err          t      P>|t|      [0.025      0.975]\n",
      "------------------------------------------------------------------------------\n",
      "Intercept   2717.5292    174.044     15.614      0.000    2374.139    3060.919\n",
      "mage         -11.2611      3.250     -3.464      0.001     -17.674      -4.848\n",
      "meduc         19.5341     16.607      1.176      0.241     -13.232      52.300\n",
      "monpre         2.6319     22.564      0.117      0.907     -41.887      47.150\n",
      "npvis          2.1446      6.547      0.328      0.744     -10.774      15.063\n",
      "fage          -5.2351      3.552     -1.474      0.142     -12.244       1.774\n",
      "feduc         13.4738     14.285      0.943      0.347     -14.711      41.658\n",
      "cigs         -36.5300      4.611     -7.922      0.000     -45.628     -27.433\n",
      "drink       -114.6273      9.800    -11.697      0.000    -133.963     -95.292\n",
      "mwhte        977.9943     90.316     10.829      0.000     799.799    1156.190\n",
      "mblck        843.3730    101.176      8.336      0.000     643.752    1042.994\n",
      "moth         896.1620     93.978      9.536      0.000     710.742    1081.582\n",
      "fwhte        854.1859     86.265      9.902      0.000     683.984    1024.388\n",
      "fblck        984.1863     95.630     10.292      0.000     795.507    1172.866\n",
      "foth         879.1570    101.741      8.641      0.000     678.420    1079.894\n",
      "==============================================================================\n",
      "Omnibus:                        3.973   Durbin-Watson:                   1.312\n",
      "Prob(Omnibus):                  0.137   Jarque-Bera (JB):                4.853\n",
      "Skew:                          -0.064   Prob(JB):                       0.0883\n",
      "Kurtosis:                       3.760   Cond. No.                     6.35e+17\n",
      "==============================================================================\n",
      "\n",
      "Notes:\n",
      "[1] Standard Errors assume that the covariance matrix of the errors is correctly specified.\n",
      "[2] The smallest eigenvalue is 1.92e-30. This might indicate that there are\n",
      "strong multicollinearity problems or that the design matrix is singular.\n"
     ]
    }
   ],
   "source": [
    "# Running the model without variable 'male' because of it's high P-value on \n",
    "# the previous regression \n",
    "# Running again the previous model \n",
    "\n",
    "# Step 1: INSTANTIATE a model object\n",
    "lm_best = smf.ols(formula = \"\"\"bwght ~ mage + meduc + monpre + npvis + \n",
    "                            fage + feduc + cigs + drink + mwhte + \n",
    "                            mblck + moth + fwhte + fblck + foth\"\"\", data = birthweight)\n",
    "\n",
    "# Step 2: FIT the data into the model object\n",
    "results = lm_best.fit()\n",
    "\n",
    "\n",
    "# Step 3: analyze the SUMMARY output\n",
    "print(results.summary())\n"
   ]
  },
  {
   "cell_type": "code",
   "execution_count": 88,
   "id": "7712dae6",
   "metadata": {},
   "outputs": [
    {
     "name": "stdout",
     "output_type": "stream",
     "text": [
      "                            OLS Regression Results                            \n",
      "==============================================================================\n",
      "Dep. Variable:                  bwght   R-squared:                       0.718\n",
      "Model:                            OLS   Adj. R-squared:                  0.700\n",
      "Method:                 Least Squares   F-statistic:                     38.92\n",
      "Date:                Mon, 22 Nov 2021   Prob (F-statistic):           5.26e-44\n",
      "Time:                        10:43:55   Log-Likelihood:                -1421.9\n",
      "No. Observations:                 196   AIC:                             2870.\n",
      "Df Residuals:                     183   BIC:                             2912.\n",
      "Df Model:                          12                                         \n",
      "Covariance Type:            nonrobust                                         \n",
      "==============================================================================\n",
      "                 coef    std err          t      P>|t|      [0.025      0.975]\n",
      "------------------------------------------------------------------------------\n",
      "Intercept   2588.9925    214.757     12.055      0.000    2165.274    3012.711\n",
      "mage         -11.2857      3.239     -3.484      0.001     -17.676      -4.895\n",
      "meduc         20.9560     15.222      1.377      0.170      -9.077      50.989\n",
      "monpre         6.2052     22.757      0.273      0.785     -38.694      51.105\n",
      "npvis          3.5042      6.674      0.525      0.600      -9.664      16.673\n",
      "fage          -5.0739      3.535     -1.436      0.153     -12.048       1.900\n",
      "log_feduc    134.2866     99.992      1.343      0.181     -63.000     331.573\n",
      "cigs         -36.4074      4.601     -7.913      0.000     -45.486     -27.329\n",
      "drink       -114.3292      9.778    -11.693      0.000    -133.621     -95.037\n",
      "mwhte        937.0113     98.232      9.539      0.000     743.199    1130.823\n",
      "mblck        794.0806    111.073      7.149      0.000     574.931    1013.230\n",
      "moth         857.9005    101.779      8.429      0.000     657.089    1058.712\n",
      "fwhte        809.5297     94.960      8.525      0.000     622.173     996.887\n",
      "fblck        944.3328    103.375      9.135      0.000     740.372    1148.293\n",
      "foth         835.1299    111.044      7.521      0.000     616.039    1054.220\n",
      "==============================================================================\n",
      "Omnibus:                        4.395   Durbin-Watson:                   1.329\n",
      "Prob(Omnibus):                  0.111   Jarque-Bera (JB):                5.620\n",
      "Skew:                          -0.071   Prob(JB):                       0.0602\n",
      "Kurtosis:                       3.817   Cond. No.                     6.81e+17\n",
      "==============================================================================\n",
      "\n",
      "Notes:\n",
      "[1] Standard Errors assume that the covariance matrix of the errors is correctly specified.\n",
      "[2] The smallest eigenvalue is 1.6e-30. This might indicate that there are\n",
      "strong multicollinearity problems or that the design matrix is singular.\n"
     ]
    }
   ],
   "source": [
    "# Running the previous model changing the variable 'feduc' for it's logarithmic \n",
    "# version \"log_feduc\"\n",
    "# Running again the previous model \n",
    "\n",
    "# Step 1: INSTANTIATE a model object\n",
    "lm_best = smf.ols(formula = \"\"\"bwght ~ mage + meduc + monpre + npvis + \n",
    "                            fage + log_feduc + cigs + drink + mwhte + \n",
    "                            mblck + moth + fwhte + fblck + foth\"\"\", data = birthweight)\n",
    "\n",
    "# Step 2: FIT the data into the model object\n",
    "results = lm_best.fit()\n",
    "\n",
    "\n",
    "# Step 3: analyze the SUMMARY output\n",
    "print(results.summary())\n"
   ]
  },
  {
   "cell_type": "code",
   "execution_count": 89,
   "id": "5919439f",
   "metadata": {},
   "outputs": [
    {
     "name": "stdout",
     "output_type": "stream",
     "text": [
      "                            OLS Regression Results                            \n",
      "==============================================================================\n",
      "Dep. Variable:                  bwght   R-squared:                       0.722\n",
      "Model:                            OLS   Adj. R-squared:                  0.703\n",
      "Method:                 Least Squares   F-statistic:                     39.51\n",
      "Date:                Mon, 22 Nov 2021   Prob (F-statistic):           1.99e-44\n",
      "Time:                        10:46:23   Log-Likelihood:                -1420.8\n",
      "No. Observations:                 196   AIC:                             2868.\n",
      "Df Residuals:                     183   BIC:                             2910.\n",
      "Df Model:                          12                                         \n",
      "Covariance Type:            nonrobust                                         \n",
      "==============================================================================\n",
      "                 coef    std err          t      P>|t|      [0.025      0.975]\n",
      "------------------------------------------------------------------------------\n",
      "Intercept   2394.6401    252.804      9.472      0.000    1895.856    2893.425\n",
      "mage         -11.0230      3.218     -3.425      0.001     -17.373      -4.673\n",
      "meduc         18.4181     15.163      1.215      0.226     -11.499      48.335\n",
      "monpre        17.3469     23.409      0.741      0.460     -28.838      63.532\n",
      "log_npvis    126.4996     83.944      1.507      0.134     -39.123     292.122\n",
      "fage          -4.8628      3.516     -1.383      0.168     -11.800       2.075\n",
      "log_feduc    152.2090     98.572      1.544      0.124     -42.276     346.693\n",
      "cigs         -36.1905      4.577     -7.908      0.000     -45.220     -27.161\n",
      "drink       -113.7351      9.702    -11.723      0.000    -132.878     -94.592\n",
      "mwhte        870.9999    107.619      8.093      0.000     658.667    1083.333\n",
      "mblck        729.4701    119.226      6.118      0.000     494.235     964.705\n",
      "moth         794.1701    110.753      7.171      0.000     575.653    1012.687\n",
      "fwhte        746.9708    104.104      7.175      0.000     541.572     952.369\n",
      "fblck        881.8346    111.722      7.893      0.000     661.405    1102.264\n",
      "foth         765.8348    120.264      6.368      0.000     528.553    1003.117\n",
      "==============================================================================\n",
      "Omnibus:                        3.117   Durbin-Watson:                   1.340\n",
      "Prob(Omnibus):                  0.210   Jarque-Bera (JB):                3.475\n",
      "Skew:                           0.013   Prob(JB):                        0.176\n",
      "Kurtosis:                       3.652   Cond. No.                     8.19e+17\n",
      "==============================================================================\n",
      "\n",
      "Notes:\n",
      "[1] Standard Errors assume that the covariance matrix of the errors is correctly specified.\n",
      "[2] The smallest eigenvalue is 1.07e-30. This might indicate that there are\n",
      "strong multicollinearity problems or that the design matrix is singular.\n"
     ]
    }
   ],
   "source": [
    "# Running the previous model changing the variable 'npvis' for it's logarithmic \n",
    "# version \"log_npvis\" because of it's high P-value on the previous model.\n",
    "# Running again the previous model \n",
    "\n",
    "# Step 1: INSTANTIATE a model object\n",
    "lm_best = smf.ols(formula = \"\"\"bwght ~ mage + meduc + monpre + log_npvis + \n",
    "                            fage + log_feduc + cigs + drink + mwhte + \n",
    "                            mblck + moth + fwhte + fblck + foth\"\"\", data = birthweight)\n",
    "\n",
    "# Step 2: FIT the data into the model object\n",
    "results = lm_best.fit()\n",
    "\n",
    "\n",
    "# Step 3: analyze the SUMMARY output\n",
    "print(results.summary())"
   ]
  },
  {
   "cell_type": "code",
   "execution_count": 93,
   "id": "426fe87e",
   "metadata": {},
   "outputs": [
    {
     "name": "stdout",
     "output_type": "stream",
     "text": [
      "                            OLS Regression Results                            \n",
      "==============================================================================\n",
      "Dep. Variable:                  bwght   R-squared:                       0.722\n",
      "Model:                            OLS   Adj. R-squared:                  0.704\n",
      "Method:                 Least Squares   F-statistic:                     39.62\n",
      "Date:                Mon, 22 Nov 2021   Prob (F-statistic):           1.65e-44\n",
      "Time:                        10:51:18   Log-Likelihood:                -1420.6\n",
      "No. Observations:                 196   AIC:                             2867.\n",
      "Df Residuals:                     183   BIC:                             2910.\n",
      "Df Model:                          12                                         \n",
      "Covariance Type:            nonrobust                                         \n",
      "==============================================================================\n",
      "                 coef    std err          t      P>|t|      [0.025      0.975]\n",
      "------------------------------------------------------------------------------\n",
      "Intercept   2387.4151    240.511      9.926      0.000    1912.884    2861.946\n",
      "mage         -10.9994      3.197     -3.440      0.001     -17.308      -4.691\n",
      "meduc         18.8492     15.160      1.243      0.215     -11.061      48.760\n",
      "log_monpre    57.3930     59.228      0.969      0.334     -59.464     174.250\n",
      "log_npvis    129.9287     81.703      1.590      0.114     -31.272     291.129\n",
      "fage          -4.9048      3.505     -1.399      0.163     -11.820       2.010\n",
      "log_feduc    151.7299     96.510      1.572      0.118     -38.685     342.144\n",
      "cigs         -36.2268      4.567     -7.933      0.000     -45.237     -27.217\n",
      "drink       -113.8687      9.668    -11.777      0.000    -132.945     -94.793\n",
      "mwhte        865.6271    105.859      8.177      0.000     656.766    1074.489\n",
      "mblck        730.2584    111.445      6.553      0.000     510.376     950.141\n",
      "moth         791.5296    109.666      7.218      0.000     575.157    1007.902\n",
      "fwhte        746.7188     99.630      7.495      0.000     550.148     943.290\n",
      "fblck        875.6670    111.719      7.838      0.000     655.245    1096.089\n",
      "foth         765.0293    113.446      6.744      0.000     541.200     988.859\n",
      "==============================================================================\n",
      "Omnibus:                        3.084   Durbin-Watson:                   1.346\n",
      "Prob(Omnibus):                  0.214   Jarque-Bera (JB):                3.417\n",
      "Skew:                           0.017   Prob(JB):                        0.181\n",
      "Kurtosis:                       3.646   Cond. No.                     7.52e+17\n",
      "==============================================================================\n",
      "\n",
      "Notes:\n",
      "[1] Standard Errors assume that the covariance matrix of the errors is correctly specified.\n",
      "[2] The smallest eigenvalue is 1.26e-30. This might indicate that there are\n",
      "strong multicollinearity problems or that the design matrix is singular.\n"
     ]
    }
   ],
   "source": [
    "# Running the previous model changing the variable 'monpre' for it's logarithmic \n",
    "# version \"log_monpre\" because of it's high P-value on the previous model.\n",
    "# Running again the previous model \n",
    "\n",
    "# Step 1: INSTANTIATE a model object\n",
    "lm_best = smf.ols(formula = \"\"\"bwght ~ mage + meduc + log_monpre + log_npvis + \n",
    "                            fage + log_feduc + cigs + drink + mwhte + \n",
    "                            mblck + moth + fwhte + fblck + foth\"\"\", data = birthweight)\n",
    "\n",
    "# Step 2: FIT the data into the model object\n",
    "results = lm_best.fit()\n",
    "\n",
    "\n",
    "# Step 3: analyze the SUMMARY output\n",
    "print(results.summary())"
   ]
  },
  {
   "cell_type": "code",
   "execution_count": 94,
   "id": "4224f87b",
   "metadata": {},
   "outputs": [
    {
     "name": "stdout",
     "output_type": "stream",
     "text": [
      "                            OLS Regression Results                            \n",
      "==============================================================================\n",
      "Dep. Variable:                  bwght   R-squared:                       0.722\n",
      "Model:                            OLS   Adj. R-squared:                  0.704\n",
      "Method:                 Least Squares   F-statistic:                     39.57\n",
      "Date:                Mon, 22 Nov 2021   Prob (F-statistic):           1.80e-44\n",
      "Time:                        10:54:28   Log-Likelihood:                -1420.7\n",
      "No. Observations:                 196   AIC:                             2867.\n",
      "Df Residuals:                     183   BIC:                             2910.\n",
      "Df Model:                          12                                         \n",
      "Covariance Type:            nonrobust                                         \n",
      "==============================================================================\n",
      "                 coef    std err          t      P>|t|      [0.025      0.975]\n",
      "------------------------------------------------------------------------------\n",
      "Intercept   2165.9799    347.871      6.226      0.000    1479.627    2852.333\n",
      "mage         -11.0078      3.199     -3.441      0.001     -17.320      -4.696\n",
      "log_meduc    239.9799    205.667      1.167      0.245    -165.804     645.764\n",
      "log_monpre    56.8102     59.243      0.959      0.339     -60.078     173.698\n",
      "log_npvis    129.8059     81.906      1.585      0.115     -31.796     291.408\n",
      "fage          -4.9004      3.507     -1.397      0.164     -11.820       2.019\n",
      "log_feduc    152.9539     96.809      1.580      0.116     -38.052     343.959\n",
      "cigs         -36.2667      4.573     -7.931      0.000     -45.289     -27.244\n",
      "drink       -113.8566      9.674    -11.770      0.000    -132.943     -94.770\n",
      "mwhte        789.5246    128.553      6.142      0.000     535.888    1043.161\n",
      "mblck        656.9806    142.754      4.602      0.000     375.326     938.635\n",
      "moth         719.4747    140.637      5.116      0.000     441.995     996.954\n",
      "fwhte        673.7502    133.449      5.049      0.000     410.453     937.048\n",
      "fblck        800.6991    132.767      6.031      0.000     538.749    1062.650\n",
      "foth         691.5305    144.610      4.782      0.000     406.214     976.847\n",
      "==============================================================================\n",
      "Omnibus:                        3.164   Durbin-Watson:                   1.347\n",
      "Prob(Omnibus):                  0.206   Jarque-Bera (JB):                3.547\n",
      "Skew:                           0.019   Prob(JB):                        0.170\n",
      "Kurtosis:                       3.658   Cond. No.                     9.43e+17\n",
      "==============================================================================\n",
      "\n",
      "Notes:\n",
      "[1] Standard Errors assume that the covariance matrix of the errors is correctly specified.\n",
      "[2] The smallest eigenvalue is 7.65e-31. This might indicate that there are\n",
      "strong multicollinearity problems or that the design matrix is singular.\n"
     ]
    }
   ],
   "source": [
    "# Running the previous model changing the variable 'meduc' for it's logarithmic \n",
    "# version \"log_meduc\" because of it's high P-value on the previous model.\n",
    "# Running again the previous model \n",
    "\n",
    "# Step 1: INSTANTIATE a model object\n",
    "lm_best = smf.ols(formula = \"\"\"bwght ~ mage + meduc + log_monpre + log_npvis + \n",
    "                            fage + log_feduc + cigs + drink + mwhte + \n",
    "                            mblck + moth + fwhte + fblck + foth\"\"\", data = birthweight)\n",
    "\n",
    "# Step 2: FIT the data into the model object\n",
    "results = lm_best.fit()\n",
    "\n",
    "\n",
    "# Step 3: analyze the SUMMARY output\n",
    "print(results.summary())"
   ]
  },
  {
   "cell_type": "markdown",
   "id": "53ccbeca",
   "metadata": {},
   "source": [
    "<hr style=\"height:.9px;border:none;color:#333;background-color:#333;\" />\n",
    "<h3>Correlation Matrix</h3><br>"
   ]
  },
  {
   "cell_type": "code",
   "execution_count": 1,
   "id": "d8a049f4",
   "metadata": {},
   "outputs": [
    {
     "ename": "NameError",
     "evalue": "name 'birthweight' is not defined",
     "output_type": "error",
     "traceback": [
      "\u001b[0;31m---------------------------------------------------------------------------\u001b[0m",
      "\u001b[0;31mNameError\u001b[0m                                 Traceback (most recent call last)",
      "\u001b[0;32m/var/folders/yp/sc506q3x7c59_jkv8y4m19w00000gn/T/ipykernel_24113/2866922417.py\u001b[0m in \u001b[0;36m<module>\u001b[0;34m\u001b[0m\n\u001b[1;32m      1\u001b[0m \u001b[0;31m#Printing the features with \"\" for easier use in correlation code.\u001b[0m\u001b[0;34m\u001b[0m\u001b[0;34m\u001b[0m\u001b[0;34m\u001b[0m\u001b[0m\n\u001b[0;32m----> 2\u001b[0;31m \u001b[0;32mfor\u001b[0m \u001b[0mcolumn\u001b[0m \u001b[0;32min\u001b[0m \u001b[0mbirthweight\u001b[0m\u001b[0;34m:\u001b[0m\u001b[0;34m\u001b[0m\u001b[0;34m\u001b[0m\u001b[0m\n\u001b[0m\u001b[1;32m      3\u001b[0m     \u001b[0mprint\u001b[0m\u001b[0;34m(\u001b[0m\u001b[0;34m\"'\"\u001b[0m\u001b[0;34m+\u001b[0m \u001b[0mcolumn\u001b[0m \u001b[0;34m+\u001b[0m \u001b[0;34m\"'\"\u001b[0m\u001b[0;34m,\u001b[0m \u001b[0mend\u001b[0m \u001b[0;34m=\u001b[0m \u001b[0;34m\" , \"\u001b[0m\u001b[0;34m)\u001b[0m\u001b[0;34m\u001b[0m\u001b[0;34m\u001b[0m\u001b[0m\n",
      "\u001b[0;31mNameError\u001b[0m: name 'birthweight' is not defined"
     ]
    }
   ],
   "source": [
    "#Printing the features with \"\" for easier use in correlation code.\n",
    "for column in birthweight:\n",
    "    print(\"'\"+ column + \"'\", end = \" , \")"
   ]
  },
  {
   "cell_type": "code",
   "execution_count": 110,
   "id": "a0fc46b0",
   "metadata": {},
   "outputs": [
    {
     "data": {
      "text/plain": [
       "bwght         0.968535\n",
       "fmaps         0.323047\n",
       "log_omaps     0.316380\n",
       "omaps         0.314084\n",
       "log_npvis     0.236606\n",
       "log_feduc     0.165357\n",
       "feduc         0.145375\n",
       "meduc         0.121933\n",
       "log_meduc     0.117448\n",
       "npvis         0.110433\n",
       "mblck         0.094034\n",
       "fblck         0.085382\n",
       "male          0.083087\n",
       "moth          0.004723\n",
       "fwhte        -0.041637\n",
       "foth         -0.044665\n",
       "monpre       -0.090408\n",
       "log_monpre   -0.094039\n",
       "mwhte        -0.107958\n",
       "log_fage     -0.389008\n",
       "fage         -0.410147\n",
       "log_mage     -0.438880\n",
       "mage         -0.495450\n",
       "cigs         -0.547565\n",
       "drink        -0.695264\n",
       "Name: log_bwght, dtype: float64"
      ]
     },
     "execution_count": 110,
     "metadata": {},
     "output_type": "execute_result"
    }
   ],
   "source": [
    "#Checking again the correlation of the valiables with 'bwght' after running\n",
    "# multiple regression models.\n",
    "# developing a small correlation matrix\n",
    "birthweight_corr = birthweight.corr()    # .round(decimals = 2)\n",
    "\n",
    "\n",
    "# checking the correlations of the newly-created variables with Sale_Price\n",
    "birthweight_corr.loc['log_bwght',                   # Y-variable\n",
    "                    ['mage' , 'meduc' , 'monpre' , 'npvis' , 'fage' , 'feduc' \n",
    "                     , 'omaps' , 'fmaps' , 'cigs' , 'drink' , 'male' , 'mwhte' \n",
    "                     , 'mblck' , 'moth' , 'fwhte' , 'fblck' , 'foth' , 'bwght' \n",
    "                     , 'log_mage' , 'log_fage' , 'log_npvis' , 'log_feduc' \n",
    "                     , 'log_omaps' , 'log_meduc' , 'log_monpre']].sort_values(ascending = False)"
   ]
  },
  {
   "cell_type": "markdown",
   "id": "fe2f6e9c",
   "metadata": {},
   "source": [
    "<hr style=\"height:.9px;border:none;color:#333;background-color:#333;\" />\n",
    "<h3>Final Model</h3><br>"
   ]
  },
  {
   "cell_type": "code",
   "execution_count": 119,
   "id": "68516b56",
   "metadata": {},
   "outputs": [
    {
     "name": "stdout",
     "output_type": "stream",
     "text": [
      "                            OLS Regression Results                            \n",
      "==============================================================================\n",
      "Dep. Variable:                  bwght   R-squared:                       0.705\n",
      "Model:                            OLS   Adj. R-squared:                  0.700\n",
      "Method:                 Least Squares   F-statistic:                     152.7\n",
      "Date:                Mon, 22 Nov 2021   Prob (F-statistic):           1.31e-50\n",
      "Time:                        16:32:43   Log-Likelihood:                -1426.6\n",
      "No. Observations:                 196   AIC:                             2861.\n",
      "Df Residuals:                     192   BIC:                             2874.\n",
      "Df Model:                           3                                         \n",
      "Covariance Type:            nonrobust                                         \n",
      "==============================================================================\n",
      "                 coef    std err          t      P>|t|      [0.025      0.975]\n",
      "------------------------------------------------------------------------------\n",
      "Intercept   4928.7856    106.672     46.205      0.000    4718.385    5139.186\n",
      "mage         -14.0488      2.632     -5.338      0.000     -19.240      -8.858\n",
      "cigs         -36.0934      4.455     -8.103      0.000     -44.879     -27.307\n",
      "drink       -117.8497      9.480    -12.431      0.000    -136.549     -99.151\n",
      "==============================================================================\n",
      "Omnibus:                        5.060   Durbin-Watson:                   1.278\n",
      "Prob(Omnibus):                  0.080   Jarque-Bera (JB):                6.361\n",
      "Skew:                          -0.145   Prob(JB):                       0.0416\n",
      "Kurtosis:                       3.834   Cond. No.                         182.\n",
      "==============================================================================\n",
      "\n",
      "Notes:\n",
      "[1] Standard Errors assume that the covariance matrix of the errors is correctly specified.\n"
     ]
    }
   ],
   "source": [
    "# Running a new model without duplicating variables with their log version. \n",
    "\n",
    "# Step 1: INSTANTIATE a model object\n",
    "lm_best = smf.ols(formula = \"\"\"bwght ~ mage + cigs + drink\"\"\", data = birthweight)\n",
    "\n",
    "# Step 2: FIT the data into the model object\n",
    "results = lm_best.fit()\n",
    "\n",
    "\n",
    "# Step 3: analyze the SUMMARY output\n",
    "print(results.summary())"
   ]
  },
  {
   "cell_type": "code",
   "execution_count": 120,
   "id": "8cb4853b",
   "metadata": {},
   "outputs": [
    {
     "data": {
      "text/html": [
       "<table class=\"simpletable\">\n",
       "<caption>OLS Regression Results</caption>\n",
       "<tr>\n",
       "  <th>Dep. Variable:</th>          <td>bwght</td>      <th>  R-squared:         </th> <td>   0.705</td>\n",
       "</tr>\n",
       "<tr>\n",
       "  <th>Model:</th>                   <td>OLS</td>       <th>  Adj. R-squared:    </th> <td>   0.700</td>\n",
       "</tr>\n",
       "<tr>\n",
       "  <th>Method:</th>             <td>Least Squares</td>  <th>  F-statistic:       </th> <td>   152.7</td>\n",
       "</tr>\n",
       "<tr>\n",
       "  <th>Date:</th>             <td>Mon, 22 Nov 2021</td> <th>  Prob (F-statistic):</th> <td>1.31e-50</td>\n",
       "</tr>\n",
       "<tr>\n",
       "  <th>Time:</th>                 <td>16:33:43</td>     <th>  Log-Likelihood:    </th> <td> -1426.6</td>\n",
       "</tr>\n",
       "<tr>\n",
       "  <th>No. Observations:</th>      <td>   196</td>      <th>  AIC:               </th> <td>   2861.</td>\n",
       "</tr>\n",
       "<tr>\n",
       "  <th>Df Residuals:</th>          <td>   192</td>      <th>  BIC:               </th> <td>   2874.</td>\n",
       "</tr>\n",
       "<tr>\n",
       "  <th>Df Model:</th>              <td>     3</td>      <th>                     </th>     <td> </td>   \n",
       "</tr>\n",
       "<tr>\n",
       "  <th>Covariance Type:</th>      <td>nonrobust</td>    <th>                     </th>     <td> </td>   \n",
       "</tr>\n",
       "</table>\n",
       "<table class=\"simpletable\">\n",
       "<tr>\n",
       "      <td></td>         <th>coef</th>     <th>std err</th>      <th>t</th>      <th>P>|t|</th>  <th>[0.025</th>    <th>0.975]</th>  \n",
       "</tr>\n",
       "<tr>\n",
       "  <th>Intercept</th> <td> 4928.7856</td> <td>  106.672</td> <td>   46.205</td> <td> 0.000</td> <td> 4718.385</td> <td> 5139.186</td>\n",
       "</tr>\n",
       "<tr>\n",
       "  <th>mage</th>      <td>  -14.0488</td> <td>    2.632</td> <td>   -5.338</td> <td> 0.000</td> <td>  -19.240</td> <td>   -8.858</td>\n",
       "</tr>\n",
       "<tr>\n",
       "  <th>cigs</th>      <td>  -36.0934</td> <td>    4.455</td> <td>   -8.103</td> <td> 0.000</td> <td>  -44.879</td> <td>  -27.307</td>\n",
       "</tr>\n",
       "<tr>\n",
       "  <th>drink</th>     <td> -117.8497</td> <td>    9.480</td> <td>  -12.431</td> <td> 0.000</td> <td> -136.549</td> <td>  -99.151</td>\n",
       "</tr>\n",
       "</table>\n",
       "<table class=\"simpletable\">\n",
       "<tr>\n",
       "  <th>Omnibus:</th>       <td> 5.060</td> <th>  Durbin-Watson:     </th> <td>   1.278</td>\n",
       "</tr>\n",
       "<tr>\n",
       "  <th>Prob(Omnibus):</th> <td> 0.080</td> <th>  Jarque-Bera (JB):  </th> <td>   6.361</td>\n",
       "</tr>\n",
       "<tr>\n",
       "  <th>Skew:</th>          <td>-0.145</td> <th>  Prob(JB):          </th> <td>  0.0416</td>\n",
       "</tr>\n",
       "<tr>\n",
       "  <th>Kurtosis:</th>      <td> 3.834</td> <th>  Cond. No.          </th> <td>    182.</td>\n",
       "</tr>\n",
       "</table><br/><br/>Notes:<br/>[1] Standard Errors assume that the covariance matrix of the errors is correctly specified."
      ],
      "text/plain": [
       "<class 'statsmodels.iolib.summary.Summary'>\n",
       "\"\"\"\n",
       "                            OLS Regression Results                            \n",
       "==============================================================================\n",
       "Dep. Variable:                  bwght   R-squared:                       0.705\n",
       "Model:                            OLS   Adj. R-squared:                  0.700\n",
       "Method:                 Least Squares   F-statistic:                     152.7\n",
       "Date:                Mon, 22 Nov 2021   Prob (F-statistic):           1.31e-50\n",
       "Time:                        16:33:43   Log-Likelihood:                -1426.6\n",
       "No. Observations:                 196   AIC:                             2861.\n",
       "Df Residuals:                     192   BIC:                             2874.\n",
       "Df Model:                           3                                         \n",
       "Covariance Type:            nonrobust                                         \n",
       "==============================================================================\n",
       "                 coef    std err          t      P>|t|      [0.025      0.975]\n",
       "------------------------------------------------------------------------------\n",
       "Intercept   4928.7856    106.672     46.205      0.000    4718.385    5139.186\n",
       "mage         -14.0488      2.632     -5.338      0.000     -19.240      -8.858\n",
       "cigs         -36.0934      4.455     -8.103      0.000     -44.879     -27.307\n",
       "drink       -117.8497      9.480    -12.431      0.000    -136.549     -99.151\n",
       "==============================================================================\n",
       "Omnibus:                        5.060   Durbin-Watson:                   1.278\n",
       "Prob(Omnibus):                  0.080   Jarque-Bera (JB):                6.361\n",
       "Skew:                          -0.145   Prob(JB):                       0.0416\n",
       "Kurtosis:                       3.834   Cond. No.                         182.\n",
       "==============================================================================\n",
       "\n",
       "Notes:\n",
       "[1] Standard Errors assume that the covariance matrix of the errors is correctly specified.\n",
       "\"\"\""
      ]
     },
     "execution_count": 120,
     "metadata": {},
     "output_type": "execute_result"
    }
   ],
   "source": [
    "#building a full model\n",
    "\n",
    "# blueprinting a model type\n",
    "lm_full = smf.ols(formula = \"\"\" bwght ~ mage + cigs + drink\"\"\",\n",
    "data = birthweight)\n",
    "\n",
    "# telling Python to run the data through the blueprint\n",
    "results_full = lm_full.fit()\n",
    "\n",
    "\n",
    "# printing the results\n",
    "results_full.summary()"
   ]
  },
  {
   "cell_type": "markdown",
   "id": "1aed90e6",
   "metadata": {},
   "source": [
    "<strong>Finally, after several regressions, we can conclude that the explanatory variables that have the greatest impact and most correlation with our dependent variable are \"Mother's age\", \"Smoker or not\", and \"drinks\".\n",
    "These three variables gave us very representative values in our model and with this we can determine that they are statistically significant for our analysis.</strong>\n",
    "<hr style=\"height:.9px;border:none;color:#333;background-color:#333;\" />\n",
    "<hr style=\"height:.9px;border:none;color:#333;background-color:#333;\" />\n",
    "\n",
    "<h1>Training and testing the model</h1><br>\n",
    "Once identified the best model and decided which explanatory variables to use,\n",
    "it's time to create the training and testing of our model."
   ]
  },
  {
   "cell_type": "code",
   "execution_count": 125,
   "id": "26a467e6",
   "metadata": {},
   "outputs": [],
   "source": [
    "from sklearn.model_selection import train_test_split\n",
    "from sklearn.linear_model import LinearRegression"
   ]
  },
  {
   "cell_type": "markdown",
   "id": "c46c797b",
   "metadata": {},
   "source": [
    "<strong><h2> OLS Model </h2><strong>"
   ]
  },
  {
   "cell_type": "code",
   "execution_count": 271,
   "id": "38a4a93d",
   "metadata": {},
   "outputs": [
    {
     "name": "stdout",
     "output_type": "stream",
     "text": [
      "\n",
      "Training Data\n",
      "-------------\n",
      "X-side: (147, 7)\n",
      "Y-side: (147,)\n",
      "\n",
      "\n",
      "Testing Data\n",
      "------------\n",
      "X-side: (49, 7)\n",
      "Y-side: (49,)\n",
      "\n"
     ]
    }
   ],
   "source": [
    "#preparing explanatory variable data ## dropping missing value flag columns\n",
    "#Dropping the variables that don't improve our model.\n",
    "birthweight_data = birthweight.drop([ 'monpre' , 'npvis' , 'feduc' \n",
    "                                     , 'omaps' , 'fmaps' , 'mwhte' \n",
    "                                     , 'mblck' , 'moth' , 'fwhte' , 'fblck' \n",
    "                                     , 'bwght', 'log_bwght', 'log_mage', 'log_fage'\n",
    "                                     ,'log_meduc','log_npvis','log_feduc',\n",
    "                                     'log_omaps','log_monpre'], axis = 1)\n",
    "\n",
    "#preparing response variables\n",
    "birthweight_target = birthweight.loc[ : , \"bwght\"]\n",
    "\n",
    "\n",
    "#preparing traing and testing sets \n",
    "x_train, x_test, y_train, y_test = train_test_split(\n",
    "                                    birthweight_data, \n",
    "                                    birthweight_target, \n",
    "                                    test_size = 0.25, \n",
    "                                    random_state = 219)\n",
    "\n",
    "#checking the shapes of the data sets\n",
    "\n",
    "print(f\"\"\"\n",
    "Training Data\n",
    "-------------\n",
    "X-side: {x_train.shape}\n",
    "Y-side: {y_train.shape}\n",
    "\n",
    "\n",
    "Testing Data\n",
    "------------\n",
    "X-side: {x_test.shape}\n",
    "Y-side: {y_test.shape}\n",
    "\"\"\")"
   ]
  },
  {
   "cell_type": "code",
   "execution_count": 272,
   "id": "38dcf083",
   "metadata": {},
   "outputs": [
    {
     "name": "stdout",
     "output_type": "stream",
     "text": [
      "mage +\n",
      "cigs +\n",
      "drink +\n"
     ]
    }
   ],
   "source": [
    "# declaring set of x-variables\n",
    "x_variables = ['mage','cigs','drink']\n",
    "\n",
    "\n",
    "# looping to make x-variables suitable for statsmodels\n",
    "for val in x_variables:\n",
    "    print(f\"{val} +\")"
   ]
  },
  {
   "cell_type": "code",
   "execution_count": 273,
   "id": "56790aa5",
   "metadata": {},
   "outputs": [
    {
     "name": "stdout",
     "output_type": "stream",
     "text": [
      "                            OLS Regression Results                            \n",
      "==============================================================================\n",
      "Dep. Variable:                  bwght   R-squared:                       0.713\n",
      "Model:                            OLS   Adj. R-squared:                  0.706\n",
      "Method:                 Least Squares   F-statistic:                     118.1\n",
      "Date:                Tue, 23 Nov 2021   Prob (F-statistic):           1.59e-38\n",
      "Time:                        13:11:11   Log-Likelihood:                -1073.0\n",
      "No. Observations:                 147   AIC:                             2154.\n",
      "Df Residuals:                     143   BIC:                             2166.\n",
      "Df Model:                           3                                         \n",
      "Covariance Type:            nonrobust                                         \n",
      "==============================================================================\n",
      "                 coef    std err          t      P>|t|      [0.025      0.975]\n",
      "------------------------------------------------------------------------------\n",
      "Intercept   5077.0249    124.196     40.879      0.000    4831.528    5322.522\n",
      "mage         -17.8194      3.034     -5.874      0.000     -23.816     -11.823\n",
      "cigs         -38.0993      5.118     -7.445      0.000     -48.215     -27.983\n",
      "drink       -109.2558     11.241     -9.719      0.000    -131.476     -87.036\n",
      "==============================================================================\n",
      "Omnibus:                        4.223   Durbin-Watson:                   1.887\n",
      "Prob(Omnibus):                  0.121   Jarque-Bera (JB):                5.060\n",
      "Skew:                          -0.118   Prob(JB):                       0.0797\n",
      "Kurtosis:                       3.877   Cond. No.                         182.\n",
      "==============================================================================\n",
      "\n",
      "Notes:\n",
      "[1] Standard Errors assume that the covariance matrix of the errors is correctly specified.\n"
     ]
    }
   ],
   "source": [
    "# merging X_train and y_train so that they can be used in statsmodels\n",
    "birthweight_train = pd.concat([x_train, y_train], axis = 1)\n",
    "\n",
    "\n",
    "# Step 1: build a model\n",
    "lm_best = smf.ols(formula =  \"\"\"bwght ~ mage +\n",
    "                                        cigs +\n",
    "                                        drink\"\"\",\n",
    "                                data = birthweight_train)\n",
    "\n",
    "\n",
    "# Step 2: fit the model based on the data\n",
    "results = lm_best.fit()\n",
    "\n",
    "\n",
    "\n",
    "# Step 3: analyze the summary output\n",
    "print(results.summary())"
   ]
  },
  {
   "cell_type": "code",
   "execution_count": 274,
   "id": "5ab27b0a",
   "metadata": {},
   "outputs": [],
   "source": [
    "# applying modelin scikit-learn\n",
    "\n",
    "# preparing x-variables from the OLS model\n",
    "ols_data = birthweight.loc[: , x_variables]\n",
    "\n",
    "\n",
    "# preparing response variable\n",
    "birthweight_target = birthweight.loc[ : , 'bwght']\n",
    "\n",
    "\n",
    "###############################################\n",
    "## setting up more than one train-test split ##\n",
    "###############################################\n",
    "# FULL X-dataset (normal Y)\n",
    "x_train_FULL, x_test_FULL, y_train_FULL, y_test_FULL = train_test_split(\n",
    "            birthweight_data,     # x-variables\n",
    "            birthweight_target,   # y-variable\n",
    "            test_size = 0.25,\n",
    "            random_state = 219)\n",
    "\n",
    "\n",
    "# OLS p-value x-dataset (normal Y)\n",
    "x_train_OLS, x_test_OLS, y_train_OLS, y_test_OLS = train_test_split(\n",
    "            ols_data,         # x-variables\n",
    "            birthweight_target,   # y-variable\n",
    "            test_size = 0.25,\n",
    "            random_state = 219)"
   ]
  },
  {
   "cell_type": "code",
   "execution_count": 267,
   "id": "417db2be",
   "metadata": {},
   "outputs": [
    {
     "name": "stdout",
     "output_type": "stream",
     "text": [
      "OLS Training Score : 0.7125\n",
      "OLS Testing Score  : 0.6444\n",
      "OLS Train-Test Gap : 0.0681\n"
     ]
    }
   ],
   "source": [
    "# INSTANTIATING a model object\n",
    "lr = LinearRegression()\n",
    "\n",
    "\n",
    "# FITTING to the training data\n",
    "lr_fit = lr.fit(x_train_OLS, y_train_OLS)\n",
    "\n",
    "\n",
    "# PREDICTING on new data\n",
    "lr_pred = lr_fit.predict(x_test_OLS)\n",
    "\n",
    "\n",
    "# SCORING the results\n",
    "print('OLS Training Score :', lr.score(x_train_OLS, y_train_OLS).round(4))  # using R-square\n",
    "print('OLS Testing Score  :',  lr.score(x_test_OLS, y_test_OLS).round(4)) # using R-square\n",
    "\n",
    "lr_train_score = lr.score(x_train_OLS, y_train_OLS).round(4)\n",
    "lr_test_score = lr.score(x_test_OLS, y_test_OLS).round(4)\n",
    "\n",
    "# displaying and saving the gap between training and testing\n",
    "print('OLS Train-Test Gap :', abs(lr_train_score - lr_test_score).round(4))\n",
    "lr_test_gap = abs(lr_train_score - lr_test_score).round(4)"
   ]
  },
  {
   "cell_type": "code",
   "execution_count": 275,
   "id": "47a10283",
   "metadata": {},
   "outputs": [
    {
     "name": "stdout",
     "output_type": "stream",
     "text": [
      "('intercept', 5077.02)\n",
      "('mage', -17.82)\n",
      "('cigs', -38.1)\n",
      "('drink', -109.26)\n"
     ]
    }
   ],
   "source": [
    "# zipping each feature name to its coefficient\n",
    "lr_model_values = zip(birthweight_data[x_variables].columns,\n",
    "                      lr_fit.coef_.round(decimals = 2))\n",
    "\n",
    "\n",
    "# setting up a placeholder list to store model features\n",
    "lr_model_lst = [('intercept', lr_fit.intercept_.round(decimals = 2))]\n",
    "\n",
    "\n",
    "# printing out each feature-coefficient pair one by one\n",
    "for val in lr_model_values:\n",
    "    lr_model_lst.append(val)\n",
    "    \n",
    "\n",
    "# checking the results\n",
    "for pair in lr_model_lst:\n",
    "    print(pair)"
   ]
  },
  {
   "cell_type": "markdown",
   "id": "49b20cfb",
   "metadata": {},
   "source": [
    "<strong><h2> Lasso Model </h2><strong>"
   ]
  },
  {
   "cell_type": "code",
   "execution_count": 231,
   "id": "8f482e6e",
   "metadata": {},
   "outputs": [],
   "source": [
    "import sklearn.linear_model # linear models"
   ]
  },
  {
   "cell_type": "code",
   "execution_count": 261,
   "id": "a0927fa4",
   "metadata": {},
   "outputs": [
    {
     "name": "stdout",
     "output_type": "stream",
     "text": [
      "\n",
      "Training Data\n",
      "-------------\n",
      "X-side: (147, 7)\n",
      "Y-side: (147,)\n",
      "\n",
      "\n",
      "Testing Data\n",
      "------------\n",
      "X-side: (49, 7)\n",
      "Y-side: (49,)\n",
      "\n"
     ]
    }
   ],
   "source": [
    "#preparing explanatory variable data ## dropping missing value flag columns\n",
    "#Dropping the variables that don't improve our model.\n",
    "birthweight_data = birthweight.drop([ 'mage', 'monpre' , 'npvis' , 'feduc' \n",
    "                                     , 'omaps' , 'fmaps' , 'mwhte' \n",
    "                                     , 'mblck' , 'moth' , 'fwhte' , 'fblck' \n",
    "                                     , 'bwght', 'log_bwght', 'log_mage', 'log_fage'\n",
    "                                     ,'log_meduc','log_npvis','log_feduc',\n",
    "                                     'log_omaps','log_monpre'], axis = 1)\n",
    "\n",
    "#preparing response variables\n",
    "birthweight_target = birthweight.loc[ : , \"bwght\"]\n",
    "\n",
    "\n",
    "#preparing traing and testing sets \n",
    "x_train_FULL, x_test_FULL, y_train_FULL, y_test_FULL = train_test_split(\n",
    "                                    birthweight_data, \n",
    "                                    birthweight_target, \n",
    "                                    test_size = 0.25, \n",
    "                                    random_state = 219)\n",
    "\n",
    "#checking the shapes of the data sets\n",
    "\n",
    "print(f\"\"\"\n",
    "Training Data\n",
    "-------------\n",
    "X-side: {x_train.shape}\n",
    "Y-side: {y_train.shape}\n",
    "\n",
    "\n",
    "Testing Data\n",
    "------------\n",
    "X-side: {x_test.shape}\n",
    "Y-side: {y_test.shape}\n",
    "\"\"\")"
   ]
  },
  {
   "cell_type": "code",
   "execution_count": 262,
   "id": "7f6c0ee2",
   "metadata": {},
   "outputs": [
    {
     "name": "stdout",
     "output_type": "stream",
     "text": [
      "Lasso Training Score : 0.6879\n",
      "Lasso Testing Score  : 0.7056\n",
      "Lasso Train-Test Gap : 0.0177\n"
     ]
    }
   ],
   "source": [
    "# INSTANTIATING a model object\n",
    "lasso_model = sklearn.linear_model.Lasso(alpha = 1.0,\n",
    "                                         normalize = True) # default magitude\n",
    "\n",
    "\n",
    "# FITTING to the training data\n",
    "lasso_fit = lasso_model.fit(x_train_FULL, y_train_FULL)\n",
    "\n",
    "\n",
    "# PREDICTING on new data\n",
    "lasso_pred = lasso_fit.predict(x_test_FULL)\n",
    "\n",
    "\n",
    "# SCORING the results\n",
    "print('Lasso Training Score :', lasso_model.score(x_train_FULL, y_train_FULL).round(4))\n",
    "print('Lasso Testing Score  :', lasso_model.score(x_test_FULL, y_test_FULL).round(4))\n",
    "\n",
    "\n",
    "## the following code has been provided for you ##\n",
    "\n",
    "# saving scoring data for future use\n",
    "lasso_train_score = lasso_model.score(x_train_FULL, y_train_FULL).round(4) # using R-square\n",
    "lasso_test_score  = lasso_model.score(x_test_FULL, y_test_FULL).round(4)   # using R-square\n",
    "\n",
    "\n",
    "# displaying and saving the gap between training and testing\n",
    "print('Lasso Train-Test Gap :', abs(lasso_train_score - lasso_test_score).round(4))\n",
    "lasso_test_gap = abs(lasso_train_score - lasso_test_score).round(4)"
   ]
  },
  {
   "cell_type": "code",
   "execution_count": 263,
   "id": "7210ecce",
   "metadata": {},
   "outputs": [
    {
     "name": "stdout",
     "output_type": "stream",
     "text": [
      "('intercept', 4432.05)\n",
      "('meduc', 29.73)\n",
      "('fage', -12.54)\n",
      "('cigs', -37.39)\n",
      "('drink', -113.79)\n",
      "('male', 46.4)\n",
      "('foth', -8.31)\n"
     ]
    }
   ],
   "source": [
    "# zipping each feature name to its coefficient\n",
    "lasso_model_values = zip(birthweight_data.columns, lasso_fit.coef_.round(decimals = 2))\n",
    "\n",
    "\n",
    "# setting up a placeholder list to store model features\n",
    "lasso_model_lst = [('intercept', lasso_fit.intercept_.round(decimals = 2))]\n",
    "\n",
    "\n",
    "# printing out each feature-coefficient pair one by one\n",
    "for val in lasso_model_values:\n",
    "    lasso_model_lst.append(val)\n",
    "    \n",
    "\n",
    "# checking the results\n",
    "for pair in lasso_model_lst:\n",
    "    print(pair)"
   ]
  },
  {
   "cell_type": "markdown",
   "id": "fa4dc4bf",
   "metadata": {},
   "source": [
    "<strong><h2> ARD Model </h2><strong>"
   ]
  },
  {
   "cell_type": "code",
   "execution_count": 264,
   "id": "c5271a21",
   "metadata": {},
   "outputs": [
    {
     "name": "stdout",
     "output_type": "stream",
     "text": [
      "\n",
      "Training Data\n",
      "-------------\n",
      "X-side: (147, 7)\n",
      "Y-side: (147,)\n",
      "\n",
      "\n",
      "Testing Data\n",
      "------------\n",
      "X-side: (49, 7)\n",
      "Y-side: (49,)\n",
      "\n"
     ]
    }
   ],
   "source": [
    "#preparing explanatory variable data ## dropping missing value flag columns\n",
    "#Dropping the variables that don't improve our model.\n",
    "birthweight_data = birthweight.drop([ 'mage','monpre' , 'npvis' , 'feduc' \n",
    "                                     , 'omaps' , 'fmaps' , 'mwhte' \n",
    "                                     , 'mblck' , 'moth' , 'fwhte' , 'fblck' \n",
    "                                     , 'bwght', 'log_bwght', 'log_mage', 'log_fage'\n",
    "                                     ,'log_meduc','log_npvis','log_feduc',\n",
    "                                     'log_omaps','log_monpre'], axis = 1)\n",
    "\n",
    "#preparing response variables\n",
    "birthweight_target = birthweight.loc[ : , \"bwght\"]\n",
    "\n",
    "\n",
    "#preparing traing and testing sets \n",
    "x_train_FULL, x_test_FULL, y_train_FULL, y_test_FULL = train_test_split(\n",
    "                                    birthweight_data, \n",
    "                                    birthweight_target, \n",
    "                                    test_size = 0.25, \n",
    "                                    random_state = 219)\n",
    "\n",
    "#checking the shapes of the data sets\n",
    "\n",
    "print(f\"\"\"\n",
    "Training Data\n",
    "-------------\n",
    "X-side: {x_train.shape}\n",
    "Y-side: {y_train.shape}\n",
    "\n",
    "\n",
    "Testing Data\n",
    "------------\n",
    "X-side: {x_test.shape}\n",
    "Y-side: {y_test.shape}\n",
    "\"\"\")"
   ]
  },
  {
   "cell_type": "code",
   "execution_count": 257,
   "id": "fd8429cc",
   "metadata": {},
   "outputs": [
    {
     "name": "stdout",
     "output_type": "stream",
     "text": [
      "Training Score: 0.6862\n",
      "Testing Score : 0.7177\n",
      "ARD Train-Test Gap : 0.0315\n"
     ]
    }
   ],
   "source": [
    "# INSTANTIATING a model object\n",
    "ard_model = sklearn.linear_model.ARDRegression(alpha_1 = 1e-06,\n",
    "                                         normalize = True) ##this alpha set is the default\n",
    "\n",
    "\n",
    "# FITTING the training data\n",
    "ard_fit = ard_model.fit(x_train_FULL, y_train_FULL)\n",
    "\n",
    "\n",
    "# PREDICTING on new data\n",
    "ard_pred = ard_fit.predict(x_test_FULL)\n",
    "\n",
    "\n",
    "print('Training Score:', ard_model.score(x_train_FULL, y_train_FULL).round(4))\n",
    "print('Testing Score :', ard_model.score(x_test_FULL, y_test_FULL).round(4))\n",
    "\n",
    "\n",
    "# saving scoring data for future use\n",
    "ard_train_score = ard_model.score(x_train_FULL, y_train_FULL)\n",
    "ard_test_score  = ard_model.score(x_test_FULL, y_test_FULL)\n",
    "\n",
    "\n",
    "# displaying and saving the gap between training and testing\n",
    "print('ARD Train-Test Gap :', abs(ard_train_score - ard_test_score).round(4))\n",
    "ard_test_gap = abs(ard_train_score - ard_test_score).round(4)"
   ]
  },
  {
   "cell_type": "code",
   "execution_count": 258,
   "id": "7e06f874",
   "metadata": {},
   "outputs": [
    {
     "name": "stdout",
     "output_type": "stream",
     "text": [
      "('intercept', 4524.19)\n",
      "('meduc', 27.12213)\n",
      "('fage', -12.80115)\n",
      "('cigs', -38.43376)\n",
      "('drink', -117.01349)\n",
      "('male', 7.11708)\n",
      "('foth', -0.0001)\n"
     ]
    }
   ],
   "source": [
    "# zipping each feature name to its coefficient\n",
    "ard_model_values = zip(birthweight_data.columns, ard_fit.coef_.round(decimals = 5))\n",
    "\n",
    "\n",
    "# setting up a placeholder list to store model features\n",
    "ard_model_lst = [('intercept', ard_fit.intercept_.round(decimals = 2))]\n",
    "\n",
    "\n",
    "# printing out each feature-coefficient pair one by one\n",
    "for val in ard_model_values:\n",
    "    ard_model_lst.append(val)\n",
    "    \n",
    "\n",
    "# checking the results\n",
    "for pair in ard_model_lst:\n",
    "    print(pair)"
   ]
  },
  {
   "cell_type": "code",
   "execution_count": 259,
   "id": "10e11b06",
   "metadata": {},
   "outputs": [
    {
     "name": "stdout",
     "output_type": "stream",
     "text": [
      "('intercept', 4524.19)\n",
      "('meduc', 27.12213)\n",
      "('fage', -12.80115)\n",
      "('cigs', -38.43376)\n",
      "('drink', -117.01349)\n",
      "('male', 7.11708)\n",
      "('foth', -0.0001)\n"
     ]
    }
   ],
   "source": [
    "## This code may have to be run more than once ##\n",
    "\n",
    "# dropping coefficients that are equal to zero\n",
    "\n",
    "# printing out each feature-coefficient pair one by one\n",
    "for feature, coefficient in ard_model_lst:\n",
    "        \n",
    "        if coefficient == 0:\n",
    "            ard_model_lst.remove((feature, coefficient))\n",
    "\n",
    "            \n",
    "# checking the results\n",
    "for pair in ard_model_lst:\n",
    "    print(pair)"
   ]
  },
  {
   "cell_type": "markdown",
   "id": "aca910ed",
   "metadata": {},
   "source": [
    "<hr style=\"height:.9px;border:none;color:#333;background-color:#333;\" />\n",
    "<hr style=\"height:.9px;border:none;color:#333;background-color:#333;\" />\n",
    "\n",
    "<h1>Comparing Models</h1><br>\n",
    "After defining all the models, OLS, Lasso & ARD, we compare them and decide which one is the correct to use\n",
    "according to the train score, test score and gap."
   ]
  },
  {
   "cell_type": "code",
   "execution_count": 276,
   "id": "8aafe10d",
   "metadata": {},
   "outputs": [
    {
     "name": "stdout",
     "output_type": "stream",
     "text": [
      "\n",
      "Model                       Train Score          Test Score          Train-Test Gap\n",
      "-----                       -----------          ----------          --------------\n",
      "OLS                           0.7125              0.6444             0.0681\n",
      "Lasso                         0.6879              0.7056             0.0177\n",
      "ARD (Final Model)             0.6862              0.7177             0.0315 \n",
      "\n"
     ]
    }
   ],
   "source": [
    "# comparing results\n",
    "\n",
    "\n",
    "print(f\"\"\"\n",
    "Model                       Train Score          Test Score          Train-Test Gap\n",
    "-----                       -----------          ----------          --------------\n",
    "OLS                           {lr_train_score}              {lr_test_score}             {lr_test_gap}\n",
    "Lasso                         {lasso_train_score}              {lasso_test_score}             {lasso_test_gap}\n",
    "ARD (Final Model)             {ard_train_score.round(decimals=4)}              {ard_test_score.round(decimals=4)}             {ard_test_gap} \n",
    "\"\"\")\n",
    "\n",
    "\n",
    "# creating a dictionary for model results\n",
    "model_performance = {\n",
    "    \n",
    "    'Model Type'    : ['OLS', 'Lasso', 'ARD'],\n",
    "           \n",
    "    'Training' : [lr_train_score, lasso_train_score,\n",
    "                                   ard_train_score],\n",
    "           \n",
    "    'Testing'  : [lr_test_score, lasso_test_score,\n",
    "                                   ard_test_score],\n",
    "                    \n",
    "    'Train-Test Gap' : [lr_test_gap, lasso_test_gap,\n",
    "                                        ard_test_gap],\n",
    "                    \n",
    "    'Model Size' : [len(lr_model_lst), len(lasso_model_lst),\n",
    "                                    len(ard_model_lst)],\n",
    "                    \n",
    "    'Model' : [lr_model_lst, lasso_model_lst, ard_model_lst]}\n",
    "\n",
    "\n",
    "# converting model_performance into a DataFrame\n",
    "model_performance = pd.DataFrame(model_performance)\n",
    "\n",
    "\n",
    "# sending model results to Excel\n",
    "model_performance.to_excel('./linear_model_performance.xlsx',\n",
    "                           index = False)"
   ]
  },
  {
   "cell_type": "code",
   "execution_count": 277,
   "id": "7388c1b2",
   "metadata": {},
   "outputs": [],
   "source": [
    "# The following code will generate an Excel file that outputs the original sale \n",
    "# prices, the predictions for each model, and the deviations on each prediction.\n",
    "prediction_results = pd.DataFrame(data = {\n",
    "    'Original Sale Prices' : y_test_FULL,\n",
    "    'LR Predictions'       : lr_pred.round(decimals = 2),\n",
    "    'Lasso Predictions'    : lasso_pred.round(decimals = 2),\n",
    "    'ARD Predictions'      : ard_pred.round(decimals = 2),\n",
    "    'LR Deviation'         : lr_pred.round(decimals = 2) - y_test_FULL,\n",
    "    'Lasso Deviation'      : lasso_pred.round(decimals = 2) - y_test_FULL,\n",
    "    'ARD Deviation'        : ard_pred.round(decimals = 2) - y_test_FULL,\n",
    "    })\n",
    "\n",
    "\n",
    "prediction_results.to_excel(excel_writer = './linear_model_predictions.xlsx',\n",
    "                            index = False)"
   ]
  },
  {
   "cell_type": "markdown",
   "id": "299e00f9",
   "metadata": {},
   "source": [
    "<hr style=\"height:.9px;border:none;color:#333;background-color:#333;\" />\n",
    "<hr style=\"height:.9px;border:none;color:#333;background-color:#333;\" />\n",
    "\n",
    "<h1>Conclusion</h1><br>\n",
    "\n",
    "After having carried out the analysis with each and every one of the variables in their original and logarithmic format, and after having tested the model with the different methods, we can conclude that for a baby to have an adequate birth weight, it is key that the mother is the optimal age at the time of pregnancy since if she becomes pregnant at a very advanced age than recommended, then it could affect the weight of the newborn. Likewise, if the mother is a smoker and decides to smoke during her pregnancy, this could have consequences directly related to the baby's weight. It may sound obvious but smoking during pregnancy is truly harmful for the baby and not only in her birth weight but in many other aspects.\n",
    "According to the U.S. Department of Health and Human Services, \"One in every five babies born to mothers who smoke during pregnancy has low birth weight. Mothers who are exposed to secondhand smoke while pregnant are more likely to have lower birth weight babies. Babies born too small or too early are not as healthy.\"*\n",
    "Additionally, drinking during pregnancy also has negative consequences on the weight and development of the baby. Although some articles mention that it is advisable to have a daily glass of wine during pregnancy, it is recommended to put these types of drinks aside and replace them with something else, perhaps a glass of juice, a coffee, a tea or a refreshing glass of water. What is important is to have a good degree of hydration in order to have a healthy baby boy or girl.\n",
    "\n",
    "Reference:<br>\n",
    "*CDC, https://www.cdc.gov/tobacco/basic_information/health_effects/pregnancy/index.htm"
   ]
  },
  {
   "cell_type": "code",
   "execution_count": null,
   "id": "22777773",
   "metadata": {},
   "outputs": [],
   "source": []
  }
 ],
 "metadata": {
  "kernelspec": {
   "display_name": "Python 3 (ipykernel)",
   "language": "python",
   "name": "python3"
  },
  "language_info": {
   "codemirror_mode": {
    "name": "ipython",
    "version": 3
   },
   "file_extension": ".py",
   "mimetype": "text/x-python",
   "name": "python",
   "nbconvert_exporter": "python",
   "pygments_lexer": "ipython3",
   "version": "3.8.3"
  },
  "toc": {
   "base_numbering": 1,
   "nav_menu": {},
   "number_sections": true,
   "sideBar": true,
   "skip_h1_title": false,
   "title_cell": "Table of Contents",
   "title_sidebar": "Contents",
   "toc_cell": false,
   "toc_position": {
    "height": "calc(100% - 180px)",
    "left": "10px",
    "top": "150px",
    "width": "288px"
   },
   "toc_section_display": true,
   "toc_window_display": true
  },
  "varInspector": {
   "cols": {
    "lenName": 16,
    "lenType": 16,
    "lenVar": 40
   },
   "kernels_config": {
    "python": {
     "delete_cmd_postfix": "",
     "delete_cmd_prefix": "del ",
     "library": "var_list.py",
     "varRefreshCmd": "print(var_dic_list())"
    },
    "r": {
     "delete_cmd_postfix": ") ",
     "delete_cmd_prefix": "rm(",
     "library": "var_list.r",
     "varRefreshCmd": "cat(var_dic_list()) "
    }
   },
   "types_to_exclude": [
    "module",
    "function",
    "builtin_function_or_method",
    "instance",
    "_Feature"
   ],
   "window_display": false
  }
 },
 "nbformat": 4,
 "nbformat_minor": 5
}
